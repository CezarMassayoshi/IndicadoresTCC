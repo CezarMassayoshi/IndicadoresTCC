{
  "nbformat": 4,
  "nbformat_minor": 0,
  "metadata": {
    "colab": {
      "name": "BBDC3.ipynb",
      "provenance": [],
      "collapsed_sections": [],
      "authorship_tag": "ABX9TyPfM75NTJ0sKv0ffTTF/CaO",
      "include_colab_link": true
    },
    "kernelspec": {
      "name": "python3",
      "display_name": "Python 3"
    },
    "language_info": {
      "name": "python"
    }
  },
  "cells": [
    {
      "cell_type": "markdown",
      "metadata": {
        "id": "view-in-github",
        "colab_type": "text"
      },
      "source": [
        "<a href=\"https://colab.research.google.com/github/CezarMassayoshi/IndicadoresTCC/blob/main/BBDC3.ipynb\" target=\"_parent\"><img src=\"https://colab.research.google.com/assets/colab-badge.svg\" alt=\"Open In Colab\"/></a>"
      ]
    },
    {
      "cell_type": "markdown",
      "source": [
        "# Instalando as bibliotecas"
      ],
      "metadata": {
        "id": "Gw8oH1bVy9z3"
      }
    },
    {
      "cell_type": "code",
      "execution_count": null,
      "metadata": {
        "colab": {
          "base_uri": "https://localhost:8080/"
        },
        "id": "wNC295DjDOQ0",
        "outputId": "e32ac5d5-e69c-412d-8bcd-2f8eaba08bc8"
      },
      "outputs": [
        {
          "output_type": "stream",
          "name": "stdout",
          "text": [
            "Looking in indexes: https://pypi.org/simple, https://us-python.pkg.dev/colab-wheels/public/simple/\n",
            "Collecting investpy\n",
            "  Downloading investpy-1.0.8.tar.gz (4.4 MB)\n",
            "\u001b[K     |████████████████████████████████| 4.4 MB 7.2 MB/s \n",
            "\u001b[?25hCollecting Unidecode>=1.1.1\n",
            "  Downloading Unidecode-1.3.4-py3-none-any.whl (235 kB)\n",
            "\u001b[K     |████████████████████████████████| 235 kB 49.8 MB/s \n",
            "\u001b[?25hRequirement already satisfied: setuptools>=41.2.0 in /usr/local/lib/python3.7/dist-packages (from investpy) (57.4.0)\n",
            "Requirement already satisfied: numpy>=1.17.2 in /usr/local/lib/python3.7/dist-packages (from investpy) (1.21.6)\n",
            "Requirement already satisfied: pandas>=0.25.1 in /usr/local/lib/python3.7/dist-packages (from investpy) (1.3.5)\n",
            "Collecting lxml>=4.4.1\n",
            "  Downloading lxml-4.9.1-cp37-cp37m-manylinux_2_17_x86_64.manylinux2014_x86_64.manylinux_2_24_x86_64.whl (6.4 MB)\n",
            "\u001b[K     |████████████████████████████████| 6.4 MB 33.2 MB/s \n",
            "\u001b[?25hRequirement already satisfied: requests>=2.22.0 in /usr/local/lib/python3.7/dist-packages (from investpy) (2.23.0)\n",
            "Requirement already satisfied: pytz>=2019.3 in /usr/local/lib/python3.7/dist-packages (from investpy) (2022.1)\n",
            "Requirement already satisfied: python-dateutil>=2.7.3 in /usr/local/lib/python3.7/dist-packages (from pandas>=0.25.1->investpy) (2.8.2)\n",
            "Requirement already satisfied: six>=1.5 in /usr/local/lib/python3.7/dist-packages (from python-dateutil>=2.7.3->pandas>=0.25.1->investpy) (1.15.0)\n",
            "Requirement already satisfied: certifi>=2017.4.17 in /usr/local/lib/python3.7/dist-packages (from requests>=2.22.0->investpy) (2022.6.15)\n",
            "Requirement already satisfied: idna<3,>=2.5 in /usr/local/lib/python3.7/dist-packages (from requests>=2.22.0->investpy) (2.10)\n",
            "Requirement already satisfied: chardet<4,>=3.0.2 in /usr/local/lib/python3.7/dist-packages (from requests>=2.22.0->investpy) (3.0.4)\n",
            "Requirement already satisfied: urllib3!=1.25.0,!=1.25.1,<1.26,>=1.21.1 in /usr/local/lib/python3.7/dist-packages (from requests>=2.22.0->investpy) (1.24.3)\n",
            "Building wheels for collected packages: investpy\n",
            "  Building wheel for investpy (setup.py) ... \u001b[?25l\u001b[?25hdone\n",
            "  Created wheel for investpy: filename=investpy-1.0.8-py3-none-any.whl size=4481592 sha256=eb50483b0466c768bcba05812f721d6a67e833d60995f8fa6ef97357c91d2adb\n",
            "  Stored in directory: /root/.cache/pip/wheels/96/a8/a5/0d33c72eaf00b41df7b9dc1e15d2b7c7154b3f1379ed350211\n",
            "Successfully built investpy\n",
            "Installing collected packages: Unidecode, lxml, investpy\n",
            "  Attempting uninstall: lxml\n",
            "    Found existing installation: lxml 4.2.6\n",
            "    Uninstalling lxml-4.2.6:\n",
            "      Successfully uninstalled lxml-4.2.6\n",
            "Successfully installed Unidecode-1.3.4 investpy-1.0.8 lxml-4.9.1\n"
          ]
        }
      ],
      "source": [
        "#Instalando a Biblioteca Investpy\n",
        "!pip install investpy"
      ]
    },
    {
      "cell_type": "code",
      "source": [
        "import pandas as pd #importando a biblioteca do pandas"
      ],
      "metadata": {
        "id": "2FZUGCpiDvor"
      },
      "execution_count": null,
      "outputs": []
    },
    {
      "cell_type": "code",
      "source": [
        "import investpy as inv #importando a biblioteca do investpy"
      ],
      "metadata": {
        "id": "1cKRlP9FEWiW"
      },
      "execution_count": null,
      "outputs": []
    },
    {
      "cell_type": "markdown",
      "source": [
        "# Importando dados da biblioteca Investpy"
      ],
      "metadata": {
        "id": "dIbaCNyQHiBF"
      }
    },
    {
      "cell_type": "code",
      "source": [
        "ticker = \"bbdc3\" #para alterar o ativo desejado é so mudar a sigla do ativo escolhido"
      ],
      "metadata": {
        "id": "DJgCEmDCjyS0"
      },
      "execution_count": null,
      "outputs": []
    },
    {
      "cell_type": "code",
      "source": [
        "inv.get_stock_company_profile(ticker, country= 'Brazil') #informações sobre o ativo analisado"
      ],
      "metadata": {
        "colab": {
          "base_uri": "https://localhost:8080/"
        },
        "id": "DWbw54ppLL5A",
        "outputId": "89baf161-4fa2-48c0-b43c-44d2b458fc04"
      },
      "execution_count": null,
      "outputs": [
        {
          "output_type": "execute_result",
          "data": {
            "text/plain": [
              "{'desc': \"Banco Bradesco SA, formerly Banco Brasileiro de Descontos SA, is a Brazil-based public company which engages in the Banking Services Industry Group. The Company operates as a wide-ranging commercial bank in terms of total assets, credit operations and the volume of deposits and funding. The Company offers a range of banking and financial products and services, in Brazil and abroad, for individuals, and key national and international companies and institutions. The Company's products and services cover banking and non-banking operations, such as: loans and advances, deposits, issuing credit cards, consortium, insurance, capitalization, leasing, payment collection and processing, supplementary pension plans, asset management and securities intermediation and brokerage services.\",\n",
              " 'url': 'https://www.investing.com/equities/bradesco-on-n1-company-profile'}"
            ]
          },
          "metadata": {},
          "execution_count": 5
        }
      ]
    },
    {
      "cell_type": "code",
      "source": [
        "tabela_valores = inv.get_stock_information( ticker, country = 'brazil') #importando os dados do site invest.com "
      ],
      "metadata": {
        "id": "upMyCHSkdSgC"
      },
      "execution_count": null,
      "outputs": []
    },
    {
      "cell_type": "code",
      "source": [
        "tabela_valores #exibindo os dados escolhidos"
      ],
      "metadata": {
        "colab": {
          "base_uri": "https://localhost:8080/",
          "height": 159
        },
        "id": "SPiPt_Uwky3D",
        "outputId": "f4203aad-b109-45ed-9461-2dd7d1b2afd1"
      },
      "execution_count": null,
      "outputs": [
        {
          "output_type": "execute_result",
          "data": {
            "text/plain": [
              "  Stock Symbol  Prev. Close Todays Range       Revenue   Open 52 wk Range  \\\n",
              "0        BBDC3         14.4  14.23-14.39  1.014000e+11  14.39  14.1-21.36   \n",
              "\n",
              "    EPS     Volume    Market Cap Dividend (Yield)  Average Vol. (3m)  \\\n",
              "0  2.08  2483800.0  1.691200e+11    0.5098(3.54%)          7535940.0   \n",
              "\n",
              "   P/E Ratio  Beta 1-Year Change  Shares Outstanding Next Earnings Date  \n",
              "0       8.34  1.26       -31.47%        1.065849e+10         04/08/2022  "
            ],
            "text/html": [
              "\n",
              "  <div id=\"df-0435a84d-67b8-43bb-a2e7-0596d14ad4b7\">\n",
              "    <div class=\"colab-df-container\">\n",
              "      <div>\n",
              "<style scoped>\n",
              "    .dataframe tbody tr th:only-of-type {\n",
              "        vertical-align: middle;\n",
              "    }\n",
              "\n",
              "    .dataframe tbody tr th {\n",
              "        vertical-align: top;\n",
              "    }\n",
              "\n",
              "    .dataframe thead th {\n",
              "        text-align: right;\n",
              "    }\n",
              "</style>\n",
              "<table border=\"1\" class=\"dataframe\">\n",
              "  <thead>\n",
              "    <tr style=\"text-align: right;\">\n",
              "      <th></th>\n",
              "      <th>Stock Symbol</th>\n",
              "      <th>Prev. Close</th>\n",
              "      <th>Todays Range</th>\n",
              "      <th>Revenue</th>\n",
              "      <th>Open</th>\n",
              "      <th>52 wk Range</th>\n",
              "      <th>EPS</th>\n",
              "      <th>Volume</th>\n",
              "      <th>Market Cap</th>\n",
              "      <th>Dividend (Yield)</th>\n",
              "      <th>Average Vol. (3m)</th>\n",
              "      <th>P/E Ratio</th>\n",
              "      <th>Beta</th>\n",
              "      <th>1-Year Change</th>\n",
              "      <th>Shares Outstanding</th>\n",
              "      <th>Next Earnings Date</th>\n",
              "    </tr>\n",
              "  </thead>\n",
              "  <tbody>\n",
              "    <tr>\n",
              "      <th>0</th>\n",
              "      <td>BBDC3</td>\n",
              "      <td>14.4</td>\n",
              "      <td>14.23-14.39</td>\n",
              "      <td>1.014000e+11</td>\n",
              "      <td>14.39</td>\n",
              "      <td>14.1-21.36</td>\n",
              "      <td>2.08</td>\n",
              "      <td>2483800.0</td>\n",
              "      <td>1.691200e+11</td>\n",
              "      <td>0.5098(3.54%)</td>\n",
              "      <td>7535940.0</td>\n",
              "      <td>8.34</td>\n",
              "      <td>1.26</td>\n",
              "      <td>-31.47%</td>\n",
              "      <td>1.065849e+10</td>\n",
              "      <td>04/08/2022</td>\n",
              "    </tr>\n",
              "  </tbody>\n",
              "</table>\n",
              "</div>\n",
              "      <button class=\"colab-df-convert\" onclick=\"convertToInteractive('df-0435a84d-67b8-43bb-a2e7-0596d14ad4b7')\"\n",
              "              title=\"Convert this dataframe to an interactive table.\"\n",
              "              style=\"display:none;\">\n",
              "        \n",
              "  <svg xmlns=\"http://www.w3.org/2000/svg\" height=\"24px\"viewBox=\"0 0 24 24\"\n",
              "       width=\"24px\">\n",
              "    <path d=\"M0 0h24v24H0V0z\" fill=\"none\"/>\n",
              "    <path d=\"M18.56 5.44l.94 2.06.94-2.06 2.06-.94-2.06-.94-.94-2.06-.94 2.06-2.06.94zm-11 1L8.5 8.5l.94-2.06 2.06-.94-2.06-.94L8.5 2.5l-.94 2.06-2.06.94zm10 10l.94 2.06.94-2.06 2.06-.94-2.06-.94-.94-2.06-.94 2.06-2.06.94z\"/><path d=\"M17.41 7.96l-1.37-1.37c-.4-.4-.92-.59-1.43-.59-.52 0-1.04.2-1.43.59L10.3 9.45l-7.72 7.72c-.78.78-.78 2.05 0 2.83L4 21.41c.39.39.9.59 1.41.59.51 0 1.02-.2 1.41-.59l7.78-7.78 2.81-2.81c.8-.78.8-2.07 0-2.86zM5.41 20L4 18.59l7.72-7.72 1.47 1.35L5.41 20z\"/>\n",
              "  </svg>\n",
              "      </button>\n",
              "      \n",
              "  <style>\n",
              "    .colab-df-container {\n",
              "      display:flex;\n",
              "      flex-wrap:wrap;\n",
              "      gap: 12px;\n",
              "    }\n",
              "\n",
              "    .colab-df-convert {\n",
              "      background-color: #E8F0FE;\n",
              "      border: none;\n",
              "      border-radius: 50%;\n",
              "      cursor: pointer;\n",
              "      display: none;\n",
              "      fill: #1967D2;\n",
              "      height: 32px;\n",
              "      padding: 0 0 0 0;\n",
              "      width: 32px;\n",
              "    }\n",
              "\n",
              "    .colab-df-convert:hover {\n",
              "      background-color: #E2EBFA;\n",
              "      box-shadow: 0px 1px 2px rgba(60, 64, 67, 0.3), 0px 1px 3px 1px rgba(60, 64, 67, 0.15);\n",
              "      fill: #174EA6;\n",
              "    }\n",
              "\n",
              "    [theme=dark] .colab-df-convert {\n",
              "      background-color: #3B4455;\n",
              "      fill: #D2E3FC;\n",
              "    }\n",
              "\n",
              "    [theme=dark] .colab-df-convert:hover {\n",
              "      background-color: #434B5C;\n",
              "      box-shadow: 0px 1px 3px 1px rgba(0, 0, 0, 0.15);\n",
              "      filter: drop-shadow(0px 1px 2px rgba(0, 0, 0, 0.3));\n",
              "      fill: #FFFFFF;\n",
              "    }\n",
              "  </style>\n",
              "\n",
              "      <script>\n",
              "        const buttonEl =\n",
              "          document.querySelector('#df-0435a84d-67b8-43bb-a2e7-0596d14ad4b7 button.colab-df-convert');\n",
              "        buttonEl.style.display =\n",
              "          google.colab.kernel.accessAllowed ? 'block' : 'none';\n",
              "\n",
              "        async function convertToInteractive(key) {\n",
              "          const element = document.querySelector('#df-0435a84d-67b8-43bb-a2e7-0596d14ad4b7');\n",
              "          const dataTable =\n",
              "            await google.colab.kernel.invokeFunction('convertToInteractive',\n",
              "                                                     [key], {});\n",
              "          if (!dataTable) return;\n",
              "\n",
              "          const docLinkHtml = 'Like what you see? Visit the ' +\n",
              "            '<a target=\"_blank\" href=https://colab.research.google.com/notebooks/data_table.ipynb>data table notebook</a>'\n",
              "            + ' to learn more about interactive tables.';\n",
              "          element.innerHTML = '';\n",
              "          dataTable['output_type'] = 'display_data';\n",
              "          await google.colab.output.renderOutput(dataTable, element);\n",
              "          const docLink = document.createElement('div');\n",
              "          docLink.innerHTML = docLinkHtml;\n",
              "          element.appendChild(docLink);\n",
              "        }\n",
              "      </script>\n",
              "    </div>\n",
              "  </div>\n",
              "  "
            ]
          },
          "metadata": {},
          "execution_count": 7
        }
      ]
    },
    {
      "cell_type": "code",
      "source": [
        "#Excluindo os dados não utilziados na tabela\n",
        "dfi = tabela_valores.drop(columns=['Stock Symbol','Todays Range','Revenue','Open','52 wk Range','Volume','Average Vol. (3m)','P/E Ratio',\t'Beta',\t'1-Year Change','Market Cap',\t'Next Earnings Date'])"
      ],
      "metadata": {
        "id": "wyy-QSsZk9qv"
      },
      "execution_count": null,
      "outputs": []
    },
    {
      "cell_type": "code",
      "source": [
        "dfi #exibindo a tabela, sendo Prev. Close o preço do ativo, EPS lucro por ação e Shares Outstanding o total de quantidades de ações"
      ],
      "metadata": {
        "colab": {
          "base_uri": "https://localhost:8080/",
          "height": 81
        },
        "id": "qtf5xoJ0xI7P",
        "outputId": "2d8661b7-aee9-405e-93bd-0473ede47ffc"
      },
      "execution_count": null,
      "outputs": [
        {
          "output_type": "execute_result",
          "data": {
            "text/plain": [
              "   Prev. Close   EPS Dividend (Yield)  Shares Outstanding\n",
              "0         14.4  2.08    0.5098(3.54%)        1.065849e+10"
            ],
            "text/html": [
              "\n",
              "  <div id=\"df-e379f4a3-94b9-4ec8-9270-b93dd5769774\">\n",
              "    <div class=\"colab-df-container\">\n",
              "      <div>\n",
              "<style scoped>\n",
              "    .dataframe tbody tr th:only-of-type {\n",
              "        vertical-align: middle;\n",
              "    }\n",
              "\n",
              "    .dataframe tbody tr th {\n",
              "        vertical-align: top;\n",
              "    }\n",
              "\n",
              "    .dataframe thead th {\n",
              "        text-align: right;\n",
              "    }\n",
              "</style>\n",
              "<table border=\"1\" class=\"dataframe\">\n",
              "  <thead>\n",
              "    <tr style=\"text-align: right;\">\n",
              "      <th></th>\n",
              "      <th>Prev. Close</th>\n",
              "      <th>EPS</th>\n",
              "      <th>Dividend (Yield)</th>\n",
              "      <th>Shares Outstanding</th>\n",
              "    </tr>\n",
              "  </thead>\n",
              "  <tbody>\n",
              "    <tr>\n",
              "      <th>0</th>\n",
              "      <td>14.4</td>\n",
              "      <td>2.08</td>\n",
              "      <td>0.5098(3.54%)</td>\n",
              "      <td>1.065849e+10</td>\n",
              "    </tr>\n",
              "  </tbody>\n",
              "</table>\n",
              "</div>\n",
              "      <button class=\"colab-df-convert\" onclick=\"convertToInteractive('df-e379f4a3-94b9-4ec8-9270-b93dd5769774')\"\n",
              "              title=\"Convert this dataframe to an interactive table.\"\n",
              "              style=\"display:none;\">\n",
              "        \n",
              "  <svg xmlns=\"http://www.w3.org/2000/svg\" height=\"24px\"viewBox=\"0 0 24 24\"\n",
              "       width=\"24px\">\n",
              "    <path d=\"M0 0h24v24H0V0z\" fill=\"none\"/>\n",
              "    <path d=\"M18.56 5.44l.94 2.06.94-2.06 2.06-.94-2.06-.94-.94-2.06-.94 2.06-2.06.94zm-11 1L8.5 8.5l.94-2.06 2.06-.94-2.06-.94L8.5 2.5l-.94 2.06-2.06.94zm10 10l.94 2.06.94-2.06 2.06-.94-2.06-.94-.94-2.06-.94 2.06-2.06.94z\"/><path d=\"M17.41 7.96l-1.37-1.37c-.4-.4-.92-.59-1.43-.59-.52 0-1.04.2-1.43.59L10.3 9.45l-7.72 7.72c-.78.78-.78 2.05 0 2.83L4 21.41c.39.39.9.59 1.41.59.51 0 1.02-.2 1.41-.59l7.78-7.78 2.81-2.81c.8-.78.8-2.07 0-2.86zM5.41 20L4 18.59l7.72-7.72 1.47 1.35L5.41 20z\"/>\n",
              "  </svg>\n",
              "      </button>\n",
              "      \n",
              "  <style>\n",
              "    .colab-df-container {\n",
              "      display:flex;\n",
              "      flex-wrap:wrap;\n",
              "      gap: 12px;\n",
              "    }\n",
              "\n",
              "    .colab-df-convert {\n",
              "      background-color: #E8F0FE;\n",
              "      border: none;\n",
              "      border-radius: 50%;\n",
              "      cursor: pointer;\n",
              "      display: none;\n",
              "      fill: #1967D2;\n",
              "      height: 32px;\n",
              "      padding: 0 0 0 0;\n",
              "      width: 32px;\n",
              "    }\n",
              "\n",
              "    .colab-df-convert:hover {\n",
              "      background-color: #E2EBFA;\n",
              "      box-shadow: 0px 1px 2px rgba(60, 64, 67, 0.3), 0px 1px 3px 1px rgba(60, 64, 67, 0.15);\n",
              "      fill: #174EA6;\n",
              "    }\n",
              "\n",
              "    [theme=dark] .colab-df-convert {\n",
              "      background-color: #3B4455;\n",
              "      fill: #D2E3FC;\n",
              "    }\n",
              "\n",
              "    [theme=dark] .colab-df-convert:hover {\n",
              "      background-color: #434B5C;\n",
              "      box-shadow: 0px 1px 3px 1px rgba(0, 0, 0, 0.15);\n",
              "      filter: drop-shadow(0px 1px 2px rgba(0, 0, 0, 0.3));\n",
              "      fill: #FFFFFF;\n",
              "    }\n",
              "  </style>\n",
              "\n",
              "      <script>\n",
              "        const buttonEl =\n",
              "          document.querySelector('#df-e379f4a3-94b9-4ec8-9270-b93dd5769774 button.colab-df-convert');\n",
              "        buttonEl.style.display =\n",
              "          google.colab.kernel.accessAllowed ? 'block' : 'none';\n",
              "\n",
              "        async function convertToInteractive(key) {\n",
              "          const element = document.querySelector('#df-e379f4a3-94b9-4ec8-9270-b93dd5769774');\n",
              "          const dataTable =\n",
              "            await google.colab.kernel.invokeFunction('convertToInteractive',\n",
              "                                                     [key], {});\n",
              "          if (!dataTable) return;\n",
              "\n",
              "          const docLinkHtml = 'Like what you see? Visit the ' +\n",
              "            '<a target=\"_blank\" href=https://colab.research.google.com/notebooks/data_table.ipynb>data table notebook</a>'\n",
              "            + ' to learn more about interactive tables.';\n",
              "          element.innerHTML = '';\n",
              "          dataTable['output_type'] = 'display_data';\n",
              "          await google.colab.output.renderOutput(dataTable, element);\n",
              "          const docLink = document.createElement('div');\n",
              "          docLink.innerHTML = docLinkHtml;\n",
              "          element.appendChild(docLink);\n",
              "        }\n",
              "      </script>\n",
              "    </div>\n",
              "  </div>\n",
              "  "
            ]
          },
          "metadata": {},
          "execution_count": 9
        }
      ]
    },
    {
      "cell_type": "code",
      "source": [
        "#Buscando o dados financeiros dos ultimos anos, sendo Total Revenue o patrimonio Liquido e Net Income o lucro líquido\n",
        "dfe = inv.get_stock_financial_summary(stock=ticker, country= 'Brazil',summary_type='income_statement',period = 'annual')\n",
        "dfe "
      ],
      "metadata": {
        "colab": {
          "base_uri": "https://localhost:8080/",
          "height": 206
        },
        "id": "9V-WLHaEP2jS",
        "outputId": "26f34f91-f1f9-4f10-99a2-abd5191de270"
      },
      "execution_count": null,
      "outputs": [
        {
          "output_type": "execute_result",
          "data": {
            "text/plain": [
              "            Total Revenue  Net Income\n",
              "Date                                 \n",
              "2021-12-31      163992.99    21945.69\n",
              "2020-12-31      154679.60    16546.58\n",
              "2019-12-31      162187.10    22582.62\n",
              "2018-12-31      238362.27    19084.95"
            ],
            "text/html": [
              "\n",
              "  <div id=\"df-79afe96d-cb0d-4a31-92cf-9fe34cf31803\">\n",
              "    <div class=\"colab-df-container\">\n",
              "      <div>\n",
              "<style scoped>\n",
              "    .dataframe tbody tr th:only-of-type {\n",
              "        vertical-align: middle;\n",
              "    }\n",
              "\n",
              "    .dataframe tbody tr th {\n",
              "        vertical-align: top;\n",
              "    }\n",
              "\n",
              "    .dataframe thead th {\n",
              "        text-align: right;\n",
              "    }\n",
              "</style>\n",
              "<table border=\"1\" class=\"dataframe\">\n",
              "  <thead>\n",
              "    <tr style=\"text-align: right;\">\n",
              "      <th></th>\n",
              "      <th>Total Revenue</th>\n",
              "      <th>Net Income</th>\n",
              "    </tr>\n",
              "    <tr>\n",
              "      <th>Date</th>\n",
              "      <th></th>\n",
              "      <th></th>\n",
              "    </tr>\n",
              "  </thead>\n",
              "  <tbody>\n",
              "    <tr>\n",
              "      <th>2021-12-31</th>\n",
              "      <td>163992.99</td>\n",
              "      <td>21945.69</td>\n",
              "    </tr>\n",
              "    <tr>\n",
              "      <th>2020-12-31</th>\n",
              "      <td>154679.60</td>\n",
              "      <td>16546.58</td>\n",
              "    </tr>\n",
              "    <tr>\n",
              "      <th>2019-12-31</th>\n",
              "      <td>162187.10</td>\n",
              "      <td>22582.62</td>\n",
              "    </tr>\n",
              "    <tr>\n",
              "      <th>2018-12-31</th>\n",
              "      <td>238362.27</td>\n",
              "      <td>19084.95</td>\n",
              "    </tr>\n",
              "  </tbody>\n",
              "</table>\n",
              "</div>\n",
              "      <button class=\"colab-df-convert\" onclick=\"convertToInteractive('df-79afe96d-cb0d-4a31-92cf-9fe34cf31803')\"\n",
              "              title=\"Convert this dataframe to an interactive table.\"\n",
              "              style=\"display:none;\">\n",
              "        \n",
              "  <svg xmlns=\"http://www.w3.org/2000/svg\" height=\"24px\"viewBox=\"0 0 24 24\"\n",
              "       width=\"24px\">\n",
              "    <path d=\"M0 0h24v24H0V0z\" fill=\"none\"/>\n",
              "    <path d=\"M18.56 5.44l.94 2.06.94-2.06 2.06-.94-2.06-.94-.94-2.06-.94 2.06-2.06.94zm-11 1L8.5 8.5l.94-2.06 2.06-.94-2.06-.94L8.5 2.5l-.94 2.06-2.06.94zm10 10l.94 2.06.94-2.06 2.06-.94-2.06-.94-.94-2.06-.94 2.06-2.06.94z\"/><path d=\"M17.41 7.96l-1.37-1.37c-.4-.4-.92-.59-1.43-.59-.52 0-1.04.2-1.43.59L10.3 9.45l-7.72 7.72c-.78.78-.78 2.05 0 2.83L4 21.41c.39.39.9.59 1.41.59.51 0 1.02-.2 1.41-.59l7.78-7.78 2.81-2.81c.8-.78.8-2.07 0-2.86zM5.41 20L4 18.59l7.72-7.72 1.47 1.35L5.41 20z\"/>\n",
              "  </svg>\n",
              "      </button>\n",
              "      \n",
              "  <style>\n",
              "    .colab-df-container {\n",
              "      display:flex;\n",
              "      flex-wrap:wrap;\n",
              "      gap: 12px;\n",
              "    }\n",
              "\n",
              "    .colab-df-convert {\n",
              "      background-color: #E8F0FE;\n",
              "      border: none;\n",
              "      border-radius: 50%;\n",
              "      cursor: pointer;\n",
              "      display: none;\n",
              "      fill: #1967D2;\n",
              "      height: 32px;\n",
              "      padding: 0 0 0 0;\n",
              "      width: 32px;\n",
              "    }\n",
              "\n",
              "    .colab-df-convert:hover {\n",
              "      background-color: #E2EBFA;\n",
              "      box-shadow: 0px 1px 2px rgba(60, 64, 67, 0.3), 0px 1px 3px 1px rgba(60, 64, 67, 0.15);\n",
              "      fill: #174EA6;\n",
              "    }\n",
              "\n",
              "    [theme=dark] .colab-df-convert {\n",
              "      background-color: #3B4455;\n",
              "      fill: #D2E3FC;\n",
              "    }\n",
              "\n",
              "    [theme=dark] .colab-df-convert:hover {\n",
              "      background-color: #434B5C;\n",
              "      box-shadow: 0px 1px 3px 1px rgba(0, 0, 0, 0.15);\n",
              "      filter: drop-shadow(0px 1px 2px rgba(0, 0, 0, 0.3));\n",
              "      fill: #FFFFFF;\n",
              "    }\n",
              "  </style>\n",
              "\n",
              "      <script>\n",
              "        const buttonEl =\n",
              "          document.querySelector('#df-79afe96d-cb0d-4a31-92cf-9fe34cf31803 button.colab-df-convert');\n",
              "        buttonEl.style.display =\n",
              "          google.colab.kernel.accessAllowed ? 'block' : 'none';\n",
              "\n",
              "        async function convertToInteractive(key) {\n",
              "          const element = document.querySelector('#df-79afe96d-cb0d-4a31-92cf-9fe34cf31803');\n",
              "          const dataTable =\n",
              "            await google.colab.kernel.invokeFunction('convertToInteractive',\n",
              "                                                     [key], {});\n",
              "          if (!dataTable) return;\n",
              "\n",
              "          const docLinkHtml = 'Like what you see? Visit the ' +\n",
              "            '<a target=\"_blank\" href=https://colab.research.google.com/notebooks/data_table.ipynb>data table notebook</a>'\n",
              "            + ' to learn more about interactive tables.';\n",
              "          element.innerHTML = '';\n",
              "          dataTable['output_type'] = 'display_data';\n",
              "          await google.colab.output.renderOutput(dataTable, element);\n",
              "          const docLink = document.createElement('div');\n",
              "          docLink.innerHTML = docLinkHtml;\n",
              "          element.appendChild(docLink);\n",
              "        }\n",
              "      </script>\n",
              "    </div>\n",
              "  </div>\n",
              "  "
            ]
          },
          "metadata": {},
          "execution_count": 10
        }
      ]
    },
    {
      "cell_type": "markdown",
      "source": [
        "# Pegando os dados da tabela do Investpy\n",
        "\n"
      ],
      "metadata": {
        "id": "dTZ1H_eqabNK"
      }
    },
    {
      "cell_type": "code",
      "source": [
        "p = dfi['Prev. Close'][0] #preço da ação\n",
        "p"
      ],
      "metadata": {
        "colab": {
          "base_uri": "https://localhost:8080/"
        },
        "id": "0UQli6ArmLxt",
        "outputId": "b0115c21-8ccb-41a0-ea6f-7ae45f607f9f"
      },
      "execution_count": null,
      "outputs": [
        {
          "output_type": "execute_result",
          "data": {
            "text/plain": [
              "14.4"
            ]
          },
          "metadata": {},
          "execution_count": 11
        }
      ]
    },
    {
      "cell_type": "code",
      "source": [
        "l = dfi['EPS'][0] #lucro por ação\n",
        "l"
      ],
      "metadata": {
        "colab": {
          "base_uri": "https://localhost:8080/"
        },
        "id": "_7010qV3L-iN",
        "outputId": "5ec6d6a9-4ffe-4a82-9146-bf2d329bf67d"
      },
      "execution_count": null,
      "outputs": [
        {
          "output_type": "execute_result",
          "data": {
            "text/plain": [
              "2.08"
            ]
          },
          "metadata": {},
          "execution_count": 12
        }
      ]
    },
    {
      "cell_type": "code",
      "source": [
        "qtdacao = dfi['Shares Outstanding'][0] #quantidade de ação\n",
        "qtdacao"
      ],
      "metadata": {
        "colab": {
          "base_uri": "https://localhost:8080/"
        },
        "id": "FvDvAgqQNF8U",
        "outputId": "3a0053a5-52f1-4bb7-eac1-b86593f7e4c6"
      },
      "execution_count": null,
      "outputs": [
        {
          "output_type": "execute_result",
          "data": {
            "text/plain": [
              "10658488028.0"
            ]
          },
          "metadata": {},
          "execution_count": 13
        }
      ]
    },
    {
      "cell_type": "code",
      "source": [
        "dividendos = dfi['Dividend (Yield)'][0] #dividendos pago nos ultimos 12 meses\n",
        "div12 = dividendos.split(\"(\")[0]\n",
        "div12 = float(div12)\n",
        "div12"
      ],
      "metadata": {
        "colab": {
          "base_uri": "https://localhost:8080/"
        },
        "id": "MLuxLufzPY-Z",
        "outputId": "c653d592-ff03-488a-8ced-a2a49ad2a3cc"
      },
      "execution_count": null,
      "outputs": [
        {
          "output_type": "execute_result",
          "data": {
            "text/plain": [
              "0.5098"
            ]
          },
          "metadata": {},
          "execution_count": 14
        }
      ]
    },
    {
      "cell_type": "code",
      "source": [
        "lucroliq = dfe['Net Income'][0] # lucro liquido \n",
        "lucroliq = lucroliq*(10**6)\n",
        "lucroliq"
      ],
      "metadata": {
        "colab": {
          "base_uri": "https://localhost:8080/"
        },
        "id": "iQfKnOQ-ixCq",
        "outputId": "860cf6c6-e060-40f5-dd1e-888aaa383e61"
      },
      "execution_count": null,
      "outputs": [
        {
          "output_type": "execute_result",
          "data": {
            "text/plain": [
              "21945690000.0"
            ]
          },
          "metadata": {},
          "execution_count": 15
        }
      ]
    },
    {
      "cell_type": "code",
      "source": [
        "patriliq = dfe['Total Revenue'][0] #patrimonio liquido\n",
        "patriliq = patriliq*(10**6)\n",
        "patriliq"
      ],
      "metadata": {
        "colab": {
          "base_uri": "https://localhost:8080/"
        },
        "id": "vwtZk7i9ixMI",
        "outputId": "71a0d1f2-aa49-4e17-aa5c-64ca697c0b5e"
      },
      "execution_count": null,
      "outputs": [
        {
          "output_type": "execute_result",
          "data": {
            "text/plain": [
              "163992990000.0"
            ]
          },
          "metadata": {},
          "execution_count": 16
        }
      ]
    },
    {
      "cell_type": "markdown",
      "source": [
        "# Calculo dos indicadores"
      ],
      "metadata": {
        "id": "Yc45Oun4airc"
      }
    },
    {
      "cell_type": "code",
      "source": [
        "##RESULTADOS REFERENTES A AÇÃO BBDC3\n",
        "#BANCO BRADESCO\n",
        "# VARIAVEIS PARA O CALCULO DOS INDICADORES\n",
        "vpa = patriliq/qtdacao #valor patrimonial\n",
        "\n",
        "def primeiroindicador(pl):\n",
        "    if pl<0:\n",
        "        print(\"O lucro por ação é negativo\")\n",
        "    else:\n",
        "        pass\n",
        "\n",
        "def segundoindicador(pv):\n",
        "    if 0<pv<1:\n",
        "        pvi= (1-pv)*100\n",
        "        print(\"Pelo segundo indicador a ação está mais barata {}%\".format(pvi))\n",
        "    elif pv<0:\n",
        "        print(\"A empresa tomou prejuizo\")\n",
        "    elif pv==1:\n",
        "        print(\"O preço da ação está no preço que o mercado está disposto a pagar\")\n",
        "    else:\n",
        "        pvs= (pv-1)*100\n",
        "        print(\"Pelo segundo indicador a ação está mais cara {}\".format(pvs))\n",
        "\n",
        "def terceiroindicador(roe):\n",
        "    dinheiroroe= (roe/100)*p\n",
        "    print(\"a valorização total em reais foi de {} de acordo com ROE\".format(dinheiroroe))\n",
        "\n",
        "def quartoindicador(div12):\n",
        "    dinheirodiv= (dy/100)*p\n",
        "    print(\"O total pago em dividendo nos ultimos 12 meses é de {}\".format(dinheirodiv))\n",
        "\n",
        "#INDICADORES\n",
        "pl = p/l #primeiro indicador preço por lucro\n",
        "pv = p/vpa #segundo indicador preço por valor patrimonial\n",
        "roe = (lucroliq/patriliq)*100 #retorno sobre o patrimonio\n",
        "dy = (div12/p)*100 #dividend yield\n",
        "\n",
        "print(\"O  primeiro indicador, preço por lucro é {}\".format(pl))\n",
        "print(\"O  segundo indicador, preço por valor patrimonial é {}\".format(pv))\n",
        "print(\"O  terceiro indificador, retorno sobre o patrimonio(ROE) é {}\".format(roe))\n",
        "print(\"O quarto e ultimo indicador, Dividend Yield é {}\".format(dy))\n",
        "primeiroindicador(pl)\n",
        "segundoindicador(pv)\n",
        "terceiroindicador(roe)\n",
        "quartoindicador(div12)"
      ],
      "metadata": {
        "colab": {
          "base_uri": "https://localhost:8080/"
        },
        "id": "JmeCCtV3r1qw",
        "outputId": "c5613153-2806-4ea5-8dab-b50beb93212b"
      },
      "execution_count": null,
      "outputs": [
        {
          "output_type": "stream",
          "name": "stdout",
          "text": [
            "O  primeiro indicador, preço por lucro é 6.923076923076923\n",
            "O  segundo indicador, preço por valor patrimonial é 0.9359072458109338\n",
            "O  terceiro indificador, retorno sobre o patrimonio(ROE) é 13.382090295444945\n",
            "O quarto e ultimo indicador, Dividend Yield é 3.5402777777777774\n",
            "Pelo segundo indicador a ação está mais barata 6.409275418906624%\n",
            "a valorização total em reais foi de 1.9270210025440722 de acordo com ROE\n",
            "O total pago em dividendo nos ultimos 12 meses é de 0.5098\n"
          ]
        }
      ]
    },
    {
      "cell_type": "code",
      "source": [
        ""
      ],
      "metadata": {
        "id": "TMMYceRaLjeD"
      },
      "execution_count": null,
      "outputs": []
    }
  ]
}