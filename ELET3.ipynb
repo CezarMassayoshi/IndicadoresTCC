{
  "nbformat": 4,
  "nbformat_minor": 0,
  "metadata": {
    "colab": {
      "name": "ELET3.ipynb",
      "provenance": [],
      "collapsed_sections": [],
      "authorship_tag": "ABX9TyO0+8F0HPnUfyiKqt120E6y",
      "include_colab_link": true
    },
    "kernelspec": {
      "name": "python3",
      "display_name": "Python 3"
    },
    "language_info": {
      "name": "python"
    }
  },
  "cells": [
    {
      "cell_type": "markdown",
      "metadata": {
        "id": "view-in-github",
        "colab_type": "text"
      },
      "source": [
        "<a href=\"https://colab.research.google.com/github/CezarMassayoshi/IndicadoresTCC/blob/main/ELET3.ipynb\" target=\"_parent\"><img src=\"https://colab.research.google.com/assets/colab-badge.svg\" alt=\"Open In Colab\"/></a>"
      ]
    },
    {
      "cell_type": "markdown",
      "source": [
        "# Instalando as bibliotecas"
      ],
      "metadata": {
        "id": "Gw8oH1bVy9z3"
      }
    },
    {
      "cell_type": "code",
      "execution_count": null,
      "metadata": {
        "colab": {
          "base_uri": "https://localhost:8080/"
        },
        "id": "wNC295DjDOQ0",
        "outputId": "629f79b9-3917-4a49-c935-020bc17a1421"
      },
      "outputs": [
        {
          "output_type": "stream",
          "name": "stdout",
          "text": [
            "Looking in indexes: https://pypi.org/simple, https://us-python.pkg.dev/colab-wheels/public/simple/\n",
            "Collecting investpy\n",
            "  Downloading investpy-1.0.8.tar.gz (4.4 MB)\n",
            "\u001b[K     |████████████████████████████████| 4.4 MB 5.4 MB/s \n",
            "\u001b[?25hCollecting Unidecode>=1.1.1\n",
            "  Downloading Unidecode-1.3.4-py3-none-any.whl (235 kB)\n",
            "\u001b[K     |████████████████████████████████| 235 kB 42.0 MB/s \n",
            "\u001b[?25hRequirement already satisfied: setuptools>=41.2.0 in /usr/local/lib/python3.7/dist-packages (from investpy) (57.4.0)\n",
            "Requirement already satisfied: numpy>=1.17.2 in /usr/local/lib/python3.7/dist-packages (from investpy) (1.21.6)\n",
            "Requirement already satisfied: pandas>=0.25.1 in /usr/local/lib/python3.7/dist-packages (from investpy) (1.3.5)\n",
            "Collecting lxml>=4.4.1\n",
            "  Downloading lxml-4.9.1-cp37-cp37m-manylinux_2_17_x86_64.manylinux2014_x86_64.manylinux_2_24_x86_64.whl (6.4 MB)\n",
            "\u001b[K     |████████████████████████████████| 6.4 MB 42.3 MB/s \n",
            "\u001b[?25hRequirement already satisfied: requests>=2.22.0 in /usr/local/lib/python3.7/dist-packages (from investpy) (2.23.0)\n",
            "Requirement already satisfied: pytz>=2019.3 in /usr/local/lib/python3.7/dist-packages (from investpy) (2022.1)\n",
            "Requirement already satisfied: python-dateutil>=2.7.3 in /usr/local/lib/python3.7/dist-packages (from pandas>=0.25.1->investpy) (2.8.2)\n",
            "Requirement already satisfied: six>=1.5 in /usr/local/lib/python3.7/dist-packages (from python-dateutil>=2.7.3->pandas>=0.25.1->investpy) (1.15.0)\n",
            "Requirement already satisfied: chardet<4,>=3.0.2 in /usr/local/lib/python3.7/dist-packages (from requests>=2.22.0->investpy) (3.0.4)\n",
            "Requirement already satisfied: certifi>=2017.4.17 in /usr/local/lib/python3.7/dist-packages (from requests>=2.22.0->investpy) (2022.6.15)\n",
            "Requirement already satisfied: idna<3,>=2.5 in /usr/local/lib/python3.7/dist-packages (from requests>=2.22.0->investpy) (2.10)\n",
            "Requirement already satisfied: urllib3!=1.25.0,!=1.25.1,<1.26,>=1.21.1 in /usr/local/lib/python3.7/dist-packages (from requests>=2.22.0->investpy) (1.24.3)\n",
            "Building wheels for collected packages: investpy\n",
            "  Building wheel for investpy (setup.py) ... \u001b[?25l\u001b[?25hdone\n",
            "  Created wheel for investpy: filename=investpy-1.0.8-py3-none-any.whl size=4481592 sha256=7c2a1ffec09df4e3179bb74c434ae65ee13b19d6f48a388c7c96b825b6ab2dc0\n",
            "  Stored in directory: /root/.cache/pip/wheels/96/a8/a5/0d33c72eaf00b41df7b9dc1e15d2b7c7154b3f1379ed350211\n",
            "Successfully built investpy\n",
            "Installing collected packages: Unidecode, lxml, investpy\n",
            "  Attempting uninstall: lxml\n",
            "    Found existing installation: lxml 4.2.6\n",
            "    Uninstalling lxml-4.2.6:\n",
            "      Successfully uninstalled lxml-4.2.6\n",
            "Successfully installed Unidecode-1.3.4 investpy-1.0.8 lxml-4.9.1\n"
          ]
        }
      ],
      "source": [
        "#Instalando a Biblioteca Investpy\n",
        "!pip install investpy"
      ]
    },
    {
      "cell_type": "code",
      "source": [
        "import pandas as pd #importando a biblioteca do pandas"
      ],
      "metadata": {
        "id": "2FZUGCpiDvor"
      },
      "execution_count": null,
      "outputs": []
    },
    {
      "cell_type": "code",
      "source": [
        "import investpy as inv #importando a biblioteca do investpy"
      ],
      "metadata": {
        "id": "1cKRlP9FEWiW"
      },
      "execution_count": null,
      "outputs": []
    },
    {
      "cell_type": "markdown",
      "source": [
        "# Importando dados da biblioteca Investpy"
      ],
      "metadata": {
        "id": "dIbaCNyQHiBF"
      }
    },
    {
      "cell_type": "code",
      "source": [
        "ticker = \"ELET3\" #para alterar o ativo desejado é so mudar a sigla do ativo escolhido"
      ],
      "metadata": {
        "id": "DJgCEmDCjyS0"
      },
      "execution_count": null,
      "outputs": []
    },
    {
      "cell_type": "code",
      "source": [
        "inv.get_stock_company_profile(ticker, country= 'Brazil') #informações sobre o ativo analisado"
      ],
      "metadata": {
        "colab": {
          "base_uri": "https://localhost:8080/"
        },
        "id": "DWbw54ppLL5A",
        "outputId": "13a2f176-b65a-4c3a-e67c-c2675878a1bb"
      },
      "execution_count": null,
      "outputs": [
        {
          "output_type": "execute_result",
          "data": {
            "text/plain": [
              "{'desc': \"Centrais Eletricas Brasileiras S.A. (Eletrobras) is a power generation company. The Company operates in the generation, transmission, distribution and trading segments. The Company operates through various companies, including Eletrobras holding, CGTEE, Chesf, Eletronorte, Eletronuclear, Eletrosul, Furnas, Amazonas Energia, Distribuicao Acre, Distribuicao Alagoas, Distribuicao Piaui, Distribuicao Rondonia, Distribuicao Roraima and half the capital of Itaipu Binacional. The Company has a total installed capacity for generation of over 44,150 megawatts. It has a nationwide network of transmission lines of approximately 60,500 kilometers in length. The Eletrobras Eletrosul's Megawatt Solar Plant has over 4,000 photovoltaic panels, totaling an area of approximately 8,300 square meters. The Eletrobras Eletrosul's Megawatt Solar Plant has an installed capacity of approximately one megawatt-peak (MWp), and the Megawatt Solar Plant can produce approximately 1.2 gigawatt hour (GWh).\",\n",
              " 'url': 'https://www.investing.com/equities/eletrobras-on-company-profile'}"
            ]
          },
          "metadata": {},
          "execution_count": 5
        }
      ]
    },
    {
      "cell_type": "code",
      "source": [
        "tabela_valores = inv.get_stock_information( ticker, country = 'brazil') #importando os dados do site invest.com "
      ],
      "metadata": {
        "id": "upMyCHSkdSgC"
      },
      "execution_count": null,
      "outputs": []
    },
    {
      "cell_type": "code",
      "source": [
        "tabela_valores #exibindo os dados escolhidos"
      ],
      "metadata": {
        "colab": {
          "base_uri": "https://localhost:8080/",
          "height": 159
        },
        "id": "SPiPt_Uwky3D",
        "outputId": "1180acb1-7f9b-4f1f-8e24-d486962aaafd"
      },
      "execution_count": null,
      "outputs": [
        {
          "output_type": "execute_result",
          "data": {
            "text/plain": [
              "  Stock Symbol  Prev. Close Todays Range       Revenue   Open 52 wk Range  \\\n",
              "0        ELET3        45.85   45.1-45.95  3.859000e+10  45.59  29.2-46.57   \n",
              "\n",
              "   EPS     Volume    Market Cap Dividend (Yield)  Average Vol. (3m)  \\\n",
              "0  4.3  6975500.0  1.009000e+11    0.7376(1.63%)         15545648.0   \n",
              "\n",
              "   P/E Ratio  Beta 1-Year Change  Shares Outstanding Next Earnings Date  \n",
              "0       10.8  1.22         5.26%        2.196606e+09         10/08/2022  "
            ],
            "text/html": [
              "\n",
              "  <div id=\"df-81847cc0-8156-41e8-8029-890037337760\">\n",
              "    <div class=\"colab-df-container\">\n",
              "      <div>\n",
              "<style scoped>\n",
              "    .dataframe tbody tr th:only-of-type {\n",
              "        vertical-align: middle;\n",
              "    }\n",
              "\n",
              "    .dataframe tbody tr th {\n",
              "        vertical-align: top;\n",
              "    }\n",
              "\n",
              "    .dataframe thead th {\n",
              "        text-align: right;\n",
              "    }\n",
              "</style>\n",
              "<table border=\"1\" class=\"dataframe\">\n",
              "  <thead>\n",
              "    <tr style=\"text-align: right;\">\n",
              "      <th></th>\n",
              "      <th>Stock Symbol</th>\n",
              "      <th>Prev. Close</th>\n",
              "      <th>Todays Range</th>\n",
              "      <th>Revenue</th>\n",
              "      <th>Open</th>\n",
              "      <th>52 wk Range</th>\n",
              "      <th>EPS</th>\n",
              "      <th>Volume</th>\n",
              "      <th>Market Cap</th>\n",
              "      <th>Dividend (Yield)</th>\n",
              "      <th>Average Vol. (3m)</th>\n",
              "      <th>P/E Ratio</th>\n",
              "      <th>Beta</th>\n",
              "      <th>1-Year Change</th>\n",
              "      <th>Shares Outstanding</th>\n",
              "      <th>Next Earnings Date</th>\n",
              "    </tr>\n",
              "  </thead>\n",
              "  <tbody>\n",
              "    <tr>\n",
              "      <th>0</th>\n",
              "      <td>ELET3</td>\n",
              "      <td>45.85</td>\n",
              "      <td>45.1-45.95</td>\n",
              "      <td>3.859000e+10</td>\n",
              "      <td>45.59</td>\n",
              "      <td>29.2-46.57</td>\n",
              "      <td>4.3</td>\n",
              "      <td>6975500.0</td>\n",
              "      <td>1.009000e+11</td>\n",
              "      <td>0.7376(1.63%)</td>\n",
              "      <td>15545648.0</td>\n",
              "      <td>10.8</td>\n",
              "      <td>1.22</td>\n",
              "      <td>5.26%</td>\n",
              "      <td>2.196606e+09</td>\n",
              "      <td>10/08/2022</td>\n",
              "    </tr>\n",
              "  </tbody>\n",
              "</table>\n",
              "</div>\n",
              "      <button class=\"colab-df-convert\" onclick=\"convertToInteractive('df-81847cc0-8156-41e8-8029-890037337760')\"\n",
              "              title=\"Convert this dataframe to an interactive table.\"\n",
              "              style=\"display:none;\">\n",
              "        \n",
              "  <svg xmlns=\"http://www.w3.org/2000/svg\" height=\"24px\"viewBox=\"0 0 24 24\"\n",
              "       width=\"24px\">\n",
              "    <path d=\"M0 0h24v24H0V0z\" fill=\"none\"/>\n",
              "    <path d=\"M18.56 5.44l.94 2.06.94-2.06 2.06-.94-2.06-.94-.94-2.06-.94 2.06-2.06.94zm-11 1L8.5 8.5l.94-2.06 2.06-.94-2.06-.94L8.5 2.5l-.94 2.06-2.06.94zm10 10l.94 2.06.94-2.06 2.06-.94-2.06-.94-.94-2.06-.94 2.06-2.06.94z\"/><path d=\"M17.41 7.96l-1.37-1.37c-.4-.4-.92-.59-1.43-.59-.52 0-1.04.2-1.43.59L10.3 9.45l-7.72 7.72c-.78.78-.78 2.05 0 2.83L4 21.41c.39.39.9.59 1.41.59.51 0 1.02-.2 1.41-.59l7.78-7.78 2.81-2.81c.8-.78.8-2.07 0-2.86zM5.41 20L4 18.59l7.72-7.72 1.47 1.35L5.41 20z\"/>\n",
              "  </svg>\n",
              "      </button>\n",
              "      \n",
              "  <style>\n",
              "    .colab-df-container {\n",
              "      display:flex;\n",
              "      flex-wrap:wrap;\n",
              "      gap: 12px;\n",
              "    }\n",
              "\n",
              "    .colab-df-convert {\n",
              "      background-color: #E8F0FE;\n",
              "      border: none;\n",
              "      border-radius: 50%;\n",
              "      cursor: pointer;\n",
              "      display: none;\n",
              "      fill: #1967D2;\n",
              "      height: 32px;\n",
              "      padding: 0 0 0 0;\n",
              "      width: 32px;\n",
              "    }\n",
              "\n",
              "    .colab-df-convert:hover {\n",
              "      background-color: #E2EBFA;\n",
              "      box-shadow: 0px 1px 2px rgba(60, 64, 67, 0.3), 0px 1px 3px 1px rgba(60, 64, 67, 0.15);\n",
              "      fill: #174EA6;\n",
              "    }\n",
              "\n",
              "    [theme=dark] .colab-df-convert {\n",
              "      background-color: #3B4455;\n",
              "      fill: #D2E3FC;\n",
              "    }\n",
              "\n",
              "    [theme=dark] .colab-df-convert:hover {\n",
              "      background-color: #434B5C;\n",
              "      box-shadow: 0px 1px 3px 1px rgba(0, 0, 0, 0.15);\n",
              "      filter: drop-shadow(0px 1px 2px rgba(0, 0, 0, 0.3));\n",
              "      fill: #FFFFFF;\n",
              "    }\n",
              "  </style>\n",
              "\n",
              "      <script>\n",
              "        const buttonEl =\n",
              "          document.querySelector('#df-81847cc0-8156-41e8-8029-890037337760 button.colab-df-convert');\n",
              "        buttonEl.style.display =\n",
              "          google.colab.kernel.accessAllowed ? 'block' : 'none';\n",
              "\n",
              "        async function convertToInteractive(key) {\n",
              "          const element = document.querySelector('#df-81847cc0-8156-41e8-8029-890037337760');\n",
              "          const dataTable =\n",
              "            await google.colab.kernel.invokeFunction('convertToInteractive',\n",
              "                                                     [key], {});\n",
              "          if (!dataTable) return;\n",
              "\n",
              "          const docLinkHtml = 'Like what you see? Visit the ' +\n",
              "            '<a target=\"_blank\" href=https://colab.research.google.com/notebooks/data_table.ipynb>data table notebook</a>'\n",
              "            + ' to learn more about interactive tables.';\n",
              "          element.innerHTML = '';\n",
              "          dataTable['output_type'] = 'display_data';\n",
              "          await google.colab.output.renderOutput(dataTable, element);\n",
              "          const docLink = document.createElement('div');\n",
              "          docLink.innerHTML = docLinkHtml;\n",
              "          element.appendChild(docLink);\n",
              "        }\n",
              "      </script>\n",
              "    </div>\n",
              "  </div>\n",
              "  "
            ]
          },
          "metadata": {},
          "execution_count": 7
        }
      ]
    },
    {
      "cell_type": "code",
      "source": [
        "#Excluindo os dados não utilziados na tabela\n",
        "dfi = tabela_valores.drop(columns=['Stock Symbol','Todays Range','Revenue','Open','52 wk Range','Volume','Average Vol. (3m)','P/E Ratio',\t'Beta',\t'1-Year Change','Market Cap',\t'Next Earnings Date'])"
      ],
      "metadata": {
        "id": "wyy-QSsZk9qv"
      },
      "execution_count": null,
      "outputs": []
    },
    {
      "cell_type": "code",
      "source": [
        "dfi #exibindo a tabela, sendo Prev. Close o preço do ativo, EPS lucro por ação e Shares Outstanding o total de quantidades de ações"
      ],
      "metadata": {
        "colab": {
          "base_uri": "https://localhost:8080/",
          "height": 81
        },
        "id": "qtf5xoJ0xI7P",
        "outputId": "e9a22990-79b2-4164-e082-a07c7fb8d9c4"
      },
      "execution_count": null,
      "outputs": [
        {
          "output_type": "execute_result",
          "data": {
            "text/plain": [
              "   Prev. Close  EPS Dividend (Yield)  Shares Outstanding\n",
              "0        45.85  4.3    0.7376(1.63%)        2.196606e+09"
            ],
            "text/html": [
              "\n",
              "  <div id=\"df-bf501af5-60cc-47b3-9508-c77e573bab94\">\n",
              "    <div class=\"colab-df-container\">\n",
              "      <div>\n",
              "<style scoped>\n",
              "    .dataframe tbody tr th:only-of-type {\n",
              "        vertical-align: middle;\n",
              "    }\n",
              "\n",
              "    .dataframe tbody tr th {\n",
              "        vertical-align: top;\n",
              "    }\n",
              "\n",
              "    .dataframe thead th {\n",
              "        text-align: right;\n",
              "    }\n",
              "</style>\n",
              "<table border=\"1\" class=\"dataframe\">\n",
              "  <thead>\n",
              "    <tr style=\"text-align: right;\">\n",
              "      <th></th>\n",
              "      <th>Prev. Close</th>\n",
              "      <th>EPS</th>\n",
              "      <th>Dividend (Yield)</th>\n",
              "      <th>Shares Outstanding</th>\n",
              "    </tr>\n",
              "  </thead>\n",
              "  <tbody>\n",
              "    <tr>\n",
              "      <th>0</th>\n",
              "      <td>45.85</td>\n",
              "      <td>4.3</td>\n",
              "      <td>0.7376(1.63%)</td>\n",
              "      <td>2.196606e+09</td>\n",
              "    </tr>\n",
              "  </tbody>\n",
              "</table>\n",
              "</div>\n",
              "      <button class=\"colab-df-convert\" onclick=\"convertToInteractive('df-bf501af5-60cc-47b3-9508-c77e573bab94')\"\n",
              "              title=\"Convert this dataframe to an interactive table.\"\n",
              "              style=\"display:none;\">\n",
              "        \n",
              "  <svg xmlns=\"http://www.w3.org/2000/svg\" height=\"24px\"viewBox=\"0 0 24 24\"\n",
              "       width=\"24px\">\n",
              "    <path d=\"M0 0h24v24H0V0z\" fill=\"none\"/>\n",
              "    <path d=\"M18.56 5.44l.94 2.06.94-2.06 2.06-.94-2.06-.94-.94-2.06-.94 2.06-2.06.94zm-11 1L8.5 8.5l.94-2.06 2.06-.94-2.06-.94L8.5 2.5l-.94 2.06-2.06.94zm10 10l.94 2.06.94-2.06 2.06-.94-2.06-.94-.94-2.06-.94 2.06-2.06.94z\"/><path d=\"M17.41 7.96l-1.37-1.37c-.4-.4-.92-.59-1.43-.59-.52 0-1.04.2-1.43.59L10.3 9.45l-7.72 7.72c-.78.78-.78 2.05 0 2.83L4 21.41c.39.39.9.59 1.41.59.51 0 1.02-.2 1.41-.59l7.78-7.78 2.81-2.81c.8-.78.8-2.07 0-2.86zM5.41 20L4 18.59l7.72-7.72 1.47 1.35L5.41 20z\"/>\n",
              "  </svg>\n",
              "      </button>\n",
              "      \n",
              "  <style>\n",
              "    .colab-df-container {\n",
              "      display:flex;\n",
              "      flex-wrap:wrap;\n",
              "      gap: 12px;\n",
              "    }\n",
              "\n",
              "    .colab-df-convert {\n",
              "      background-color: #E8F0FE;\n",
              "      border: none;\n",
              "      border-radius: 50%;\n",
              "      cursor: pointer;\n",
              "      display: none;\n",
              "      fill: #1967D2;\n",
              "      height: 32px;\n",
              "      padding: 0 0 0 0;\n",
              "      width: 32px;\n",
              "    }\n",
              "\n",
              "    .colab-df-convert:hover {\n",
              "      background-color: #E2EBFA;\n",
              "      box-shadow: 0px 1px 2px rgba(60, 64, 67, 0.3), 0px 1px 3px 1px rgba(60, 64, 67, 0.15);\n",
              "      fill: #174EA6;\n",
              "    }\n",
              "\n",
              "    [theme=dark] .colab-df-convert {\n",
              "      background-color: #3B4455;\n",
              "      fill: #D2E3FC;\n",
              "    }\n",
              "\n",
              "    [theme=dark] .colab-df-convert:hover {\n",
              "      background-color: #434B5C;\n",
              "      box-shadow: 0px 1px 3px 1px rgba(0, 0, 0, 0.15);\n",
              "      filter: drop-shadow(0px 1px 2px rgba(0, 0, 0, 0.3));\n",
              "      fill: #FFFFFF;\n",
              "    }\n",
              "  </style>\n",
              "\n",
              "      <script>\n",
              "        const buttonEl =\n",
              "          document.querySelector('#df-bf501af5-60cc-47b3-9508-c77e573bab94 button.colab-df-convert');\n",
              "        buttonEl.style.display =\n",
              "          google.colab.kernel.accessAllowed ? 'block' : 'none';\n",
              "\n",
              "        async function convertToInteractive(key) {\n",
              "          const element = document.querySelector('#df-bf501af5-60cc-47b3-9508-c77e573bab94');\n",
              "          const dataTable =\n",
              "            await google.colab.kernel.invokeFunction('convertToInteractive',\n",
              "                                                     [key], {});\n",
              "          if (!dataTable) return;\n",
              "\n",
              "          const docLinkHtml = 'Like what you see? Visit the ' +\n",
              "            '<a target=\"_blank\" href=https://colab.research.google.com/notebooks/data_table.ipynb>data table notebook</a>'\n",
              "            + ' to learn more about interactive tables.';\n",
              "          element.innerHTML = '';\n",
              "          dataTable['output_type'] = 'display_data';\n",
              "          await google.colab.output.renderOutput(dataTable, element);\n",
              "          const docLink = document.createElement('div');\n",
              "          docLink.innerHTML = docLinkHtml;\n",
              "          element.appendChild(docLink);\n",
              "        }\n",
              "      </script>\n",
              "    </div>\n",
              "  </div>\n",
              "  "
            ]
          },
          "metadata": {},
          "execution_count": 9
        }
      ]
    },
    {
      "cell_type": "code",
      "source": [
        "#Buscando o dados financeiros dos ultimos anos, sendo Total Revenue o patrimonio Liquido e Net Income o lucro líquido\n",
        "dfe = inv.get_stock_financial_summary(stock=ticker, country= 'Brazil',summary_type='income_statement',period = 'annual')\n",
        "dfe "
      ],
      "metadata": {
        "colab": {
          "base_uri": "https://localhost:8080/",
          "height": 206
        },
        "id": "9V-WLHaEP2jS",
        "outputId": "96dedbb6-4344-4cdc-a4af-d1e8c293d1ff"
      },
      "execution_count": null,
      "outputs": [
        {
          "output_type": "execute_result",
          "data": {
            "text/plain": [
              "            Total Revenue  Gross Profit  Operating Income  Net Income\n",
              "Date                                                                 \n",
              "2021-12-31       37616.24      25351.88          13050.69     5646.14\n",
              "2020-12-31       29080.51      15379.83           8624.29     6338.69\n",
              "2019-12-31       29714.26      21984.54           9666.57    11195.04\n",
              "2018-12-31       25772.31      19973.47          17305.15    13262.38"
            ],
            "text/html": [
              "\n",
              "  <div id=\"df-e26a4970-0a0c-4cc0-bb30-45e0e4ee42d9\">\n",
              "    <div class=\"colab-df-container\">\n",
              "      <div>\n",
              "<style scoped>\n",
              "    .dataframe tbody tr th:only-of-type {\n",
              "        vertical-align: middle;\n",
              "    }\n",
              "\n",
              "    .dataframe tbody tr th {\n",
              "        vertical-align: top;\n",
              "    }\n",
              "\n",
              "    .dataframe thead th {\n",
              "        text-align: right;\n",
              "    }\n",
              "</style>\n",
              "<table border=\"1\" class=\"dataframe\">\n",
              "  <thead>\n",
              "    <tr style=\"text-align: right;\">\n",
              "      <th></th>\n",
              "      <th>Total Revenue</th>\n",
              "      <th>Gross Profit</th>\n",
              "      <th>Operating Income</th>\n",
              "      <th>Net Income</th>\n",
              "    </tr>\n",
              "    <tr>\n",
              "      <th>Date</th>\n",
              "      <th></th>\n",
              "      <th></th>\n",
              "      <th></th>\n",
              "      <th></th>\n",
              "    </tr>\n",
              "  </thead>\n",
              "  <tbody>\n",
              "    <tr>\n",
              "      <th>2021-12-31</th>\n",
              "      <td>37616.24</td>\n",
              "      <td>25351.88</td>\n",
              "      <td>13050.69</td>\n",
              "      <td>5646.14</td>\n",
              "    </tr>\n",
              "    <tr>\n",
              "      <th>2020-12-31</th>\n",
              "      <td>29080.51</td>\n",
              "      <td>15379.83</td>\n",
              "      <td>8624.29</td>\n",
              "      <td>6338.69</td>\n",
              "    </tr>\n",
              "    <tr>\n",
              "      <th>2019-12-31</th>\n",
              "      <td>29714.26</td>\n",
              "      <td>21984.54</td>\n",
              "      <td>9666.57</td>\n",
              "      <td>11195.04</td>\n",
              "    </tr>\n",
              "    <tr>\n",
              "      <th>2018-12-31</th>\n",
              "      <td>25772.31</td>\n",
              "      <td>19973.47</td>\n",
              "      <td>17305.15</td>\n",
              "      <td>13262.38</td>\n",
              "    </tr>\n",
              "  </tbody>\n",
              "</table>\n",
              "</div>\n",
              "      <button class=\"colab-df-convert\" onclick=\"convertToInteractive('df-e26a4970-0a0c-4cc0-bb30-45e0e4ee42d9')\"\n",
              "              title=\"Convert this dataframe to an interactive table.\"\n",
              "              style=\"display:none;\">\n",
              "        \n",
              "  <svg xmlns=\"http://www.w3.org/2000/svg\" height=\"24px\"viewBox=\"0 0 24 24\"\n",
              "       width=\"24px\">\n",
              "    <path d=\"M0 0h24v24H0V0z\" fill=\"none\"/>\n",
              "    <path d=\"M18.56 5.44l.94 2.06.94-2.06 2.06-.94-2.06-.94-.94-2.06-.94 2.06-2.06.94zm-11 1L8.5 8.5l.94-2.06 2.06-.94-2.06-.94L8.5 2.5l-.94 2.06-2.06.94zm10 10l.94 2.06.94-2.06 2.06-.94-2.06-.94-.94-2.06-.94 2.06-2.06.94z\"/><path d=\"M17.41 7.96l-1.37-1.37c-.4-.4-.92-.59-1.43-.59-.52 0-1.04.2-1.43.59L10.3 9.45l-7.72 7.72c-.78.78-.78 2.05 0 2.83L4 21.41c.39.39.9.59 1.41.59.51 0 1.02-.2 1.41-.59l7.78-7.78 2.81-2.81c.8-.78.8-2.07 0-2.86zM5.41 20L4 18.59l7.72-7.72 1.47 1.35L5.41 20z\"/>\n",
              "  </svg>\n",
              "      </button>\n",
              "      \n",
              "  <style>\n",
              "    .colab-df-container {\n",
              "      display:flex;\n",
              "      flex-wrap:wrap;\n",
              "      gap: 12px;\n",
              "    }\n",
              "\n",
              "    .colab-df-convert {\n",
              "      background-color: #E8F0FE;\n",
              "      border: none;\n",
              "      border-radius: 50%;\n",
              "      cursor: pointer;\n",
              "      display: none;\n",
              "      fill: #1967D2;\n",
              "      height: 32px;\n",
              "      padding: 0 0 0 0;\n",
              "      width: 32px;\n",
              "    }\n",
              "\n",
              "    .colab-df-convert:hover {\n",
              "      background-color: #E2EBFA;\n",
              "      box-shadow: 0px 1px 2px rgba(60, 64, 67, 0.3), 0px 1px 3px 1px rgba(60, 64, 67, 0.15);\n",
              "      fill: #174EA6;\n",
              "    }\n",
              "\n",
              "    [theme=dark] .colab-df-convert {\n",
              "      background-color: #3B4455;\n",
              "      fill: #D2E3FC;\n",
              "    }\n",
              "\n",
              "    [theme=dark] .colab-df-convert:hover {\n",
              "      background-color: #434B5C;\n",
              "      box-shadow: 0px 1px 3px 1px rgba(0, 0, 0, 0.15);\n",
              "      filter: drop-shadow(0px 1px 2px rgba(0, 0, 0, 0.3));\n",
              "      fill: #FFFFFF;\n",
              "    }\n",
              "  </style>\n",
              "\n",
              "      <script>\n",
              "        const buttonEl =\n",
              "          document.querySelector('#df-e26a4970-0a0c-4cc0-bb30-45e0e4ee42d9 button.colab-df-convert');\n",
              "        buttonEl.style.display =\n",
              "          google.colab.kernel.accessAllowed ? 'block' : 'none';\n",
              "\n",
              "        async function convertToInteractive(key) {\n",
              "          const element = document.querySelector('#df-e26a4970-0a0c-4cc0-bb30-45e0e4ee42d9');\n",
              "          const dataTable =\n",
              "            await google.colab.kernel.invokeFunction('convertToInteractive',\n",
              "                                                     [key], {});\n",
              "          if (!dataTable) return;\n",
              "\n",
              "          const docLinkHtml = 'Like what you see? Visit the ' +\n",
              "            '<a target=\"_blank\" href=https://colab.research.google.com/notebooks/data_table.ipynb>data table notebook</a>'\n",
              "            + ' to learn more about interactive tables.';\n",
              "          element.innerHTML = '';\n",
              "          dataTable['output_type'] = 'display_data';\n",
              "          await google.colab.output.renderOutput(dataTable, element);\n",
              "          const docLink = document.createElement('div');\n",
              "          docLink.innerHTML = docLinkHtml;\n",
              "          element.appendChild(docLink);\n",
              "        }\n",
              "      </script>\n",
              "    </div>\n",
              "  </div>\n",
              "  "
            ]
          },
          "metadata": {},
          "execution_count": 10
        }
      ]
    },
    {
      "cell_type": "markdown",
      "source": [
        "# Pegando os dados da tabela do Investpy\n",
        "\n"
      ],
      "metadata": {
        "id": "dTZ1H_eqabNK"
      }
    },
    {
      "cell_type": "code",
      "source": [
        "p = dfi['Prev. Close'][0] #preço da ação\n",
        "p"
      ],
      "metadata": {
        "colab": {
          "base_uri": "https://localhost:8080/"
        },
        "id": "0UQli6ArmLxt",
        "outputId": "f58237d0-63e0-497c-ed0e-e3ffcd88a655"
      },
      "execution_count": null,
      "outputs": [
        {
          "output_type": "execute_result",
          "data": {
            "text/plain": [
              "45.85"
            ]
          },
          "metadata": {},
          "execution_count": 11
        }
      ]
    },
    {
      "cell_type": "code",
      "source": [
        "l = dfi['EPS'][0] #lucro por ação\n",
        "l"
      ],
      "metadata": {
        "colab": {
          "base_uri": "https://localhost:8080/"
        },
        "id": "_7010qV3L-iN",
        "outputId": "c2ef6140-fb7d-49e9-a46d-65c9d758efaa"
      },
      "execution_count": null,
      "outputs": [
        {
          "output_type": "execute_result",
          "data": {
            "text/plain": [
              "4.3"
            ]
          },
          "metadata": {},
          "execution_count": 12
        }
      ]
    },
    {
      "cell_type": "code",
      "source": [
        "qtdacao = dfi['Shares Outstanding'][0] #quantidade de ação\n",
        "qtdacao"
      ],
      "metadata": {
        "colab": {
          "base_uri": "https://localhost:8080/"
        },
        "id": "FvDvAgqQNF8U",
        "outputId": "6ab257e6-f97a-45d5-a161-3687ee9db102"
      },
      "execution_count": null,
      "outputs": [
        {
          "output_type": "execute_result",
          "data": {
            "text/plain": [
              "2196606250.0"
            ]
          },
          "metadata": {},
          "execution_count": 13
        }
      ]
    },
    {
      "cell_type": "code",
      "source": [
        "dividendos = dfi['Dividend (Yield)'][0] #dividendos pago nos ultimos 12 meses\n",
        "div12 = dividendos.split(\"(\")[0]\n",
        "div12 = float(div12)\n",
        "div12"
      ],
      "metadata": {
        "colab": {
          "base_uri": "https://localhost:8080/"
        },
        "id": "MLuxLufzPY-Z",
        "outputId": "7f1173ad-31a9-4aca-de8d-5aa6e3114f18"
      },
      "execution_count": null,
      "outputs": [
        {
          "output_type": "execute_result",
          "data": {
            "text/plain": [
              "0.7376"
            ]
          },
          "metadata": {},
          "execution_count": 14
        }
      ]
    },
    {
      "cell_type": "code",
      "source": [
        "lucroliq = dfe['Net Income'][0] # lucro liquido \n",
        "lucroliq = lucroliq*(10**6)\n",
        "lucroliq"
      ],
      "metadata": {
        "colab": {
          "base_uri": "https://localhost:8080/"
        },
        "id": "iQfKnOQ-ixCq",
        "outputId": "adcf7601-1399-4048-c9e8-bec025251151"
      },
      "execution_count": null,
      "outputs": [
        {
          "output_type": "execute_result",
          "data": {
            "text/plain": [
              "5646140000.0"
            ]
          },
          "metadata": {},
          "execution_count": 15
        }
      ]
    },
    {
      "cell_type": "code",
      "source": [
        "patriliq = dfe['Total Revenue'][0] #patrimonio liquido\n",
        "patriliq = patriliq*(10**6)\n",
        "patriliq"
      ],
      "metadata": {
        "colab": {
          "base_uri": "https://localhost:8080/"
        },
        "id": "vwtZk7i9ixMI",
        "outputId": "65d8a052-3510-423b-ddf3-fd63591baa9e"
      },
      "execution_count": null,
      "outputs": [
        {
          "output_type": "execute_result",
          "data": {
            "text/plain": [
              "37616240000.0"
            ]
          },
          "metadata": {},
          "execution_count": 16
        }
      ]
    },
    {
      "cell_type": "markdown",
      "source": [
        "# Calculo dos indicadores"
      ],
      "metadata": {
        "id": "Yc45Oun4airc"
      }
    },
    {
      "cell_type": "code",
      "source": [
        "##RESULTADOS REFERENTES A AÇÃO ELET3\n",
        "#ELETROBRAS\n",
        "# VARIAVEIS PARA O CALCULO DOS INDICADORES\n",
        "vpa = patriliq/qtdacao #valor patrimonial\n",
        "\n",
        "def primeiroindicador(pl):\n",
        "    if pl<0:\n",
        "        print(\"O lucro por ação é negativo\")\n",
        "    else:\n",
        "        pass\n",
        "\n",
        "def segundoindicador(pv):\n",
        "    if 0<pv<1:\n",
        "        pvi= (1-pv)*100\n",
        "        print(\"Pelo segundo indicador a ação está mais barata {}%\".format(pvi))\n",
        "    elif pv<0:\n",
        "        print(\"A empresa tomou prejuizo\")\n",
        "    elif pv==1:\n",
        "        print(\"O preço da ação está no preço que o mercado está disposto a pagar\")\n",
        "    else:\n",
        "        pvs= (pv-1)*100\n",
        "        print(\"Pelo segundo indicador a ação está mais cara {}\".format(pvs))\n",
        "\n",
        "def terceiroindicador(roe):\n",
        "    dinheiroroe= (roe/100)*p\n",
        "    print(\"a valorização total em reais foi de {} de acordo com ROE\".format(dinheiroroe))\n",
        "\n",
        "def quartoindicador(div12):\n",
        "    dinheirodiv= (dy/100)*p\n",
        "    print(\"O total pago em dividendo nos ultimos 12 meses é de {}\".format(dinheirodiv))\n",
        "\n",
        "#INDICADORES\n",
        "pl = p/l #primeiro indicador preço por lucro\n",
        "pv = p/vpa #segundo indicador preço por valor patrimonial\n",
        "roe = (lucroliq/patriliq)*100 #retorno sobre o patrimonio\n",
        "dy = (div12/p)*100 #dividend yield\n",
        "\n",
        "print(\"O  primeiro indicador, preço por lucro é {}\".format(pl))\n",
        "print(\"O  segundo indicador, preço por valor patrimonial é {}\".format(pv))\n",
        "print(\"O  terceiro indificador, retorno sobre o patrimonio(ROE) é {}\".format(roe))\n",
        "print(\"O quarto e ultimo indicador, Dividend Yield é {}\".format(dy))\n",
        "primeiroindicador(pl)\n",
        "segundoindicador(pv)\n",
        "terceiroindicador(roe)\n",
        "quartoindicador(div12)"
      ],
      "metadata": {
        "colab": {
          "base_uri": "https://localhost:8080/"
        },
        "id": "JmeCCtV3r1qw",
        "outputId": "88eb067e-dab4-4be5-9653-9b1e04f3d4ba"
      },
      "execution_count": null,
      "outputs": [
        {
          "output_type": "stream",
          "name": "stdout",
          "text": [
            "O  primeiro indicador, preço por lucro é 10.662790697674419\n",
            "O  segundo indicador, preço por valor patrimonial é 2.6774179599688863\n",
            "O  terceiro indificador, retorno sobre o patrimonio(ROE) é 15.009846810845529\n",
            "O quarto e ultimo indicador, Dividend Yield é 1.6087241003271537\n",
            "Pelo segundo indicador a ação está mais cara 167.74179599688864\n",
            "a valorização total em reais foi de 6.882014762772675 de acordo com ROE\n",
            "O total pago em dividendo nos ultimos 12 meses é de 0.7376\n"
          ]
        }
      ]
    },
    {
      "cell_type": "code",
      "source": [
        ""
      ],
      "metadata": {
        "id": "TMMYceRaLjeD"
      },
      "execution_count": null,
      "outputs": []
    }
  ]
}