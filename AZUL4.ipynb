{
  "nbformat": 4,
  "nbformat_minor": 0,
  "metadata": {
    "colab": {
      "name": "AZUL4.ipynb",
      "provenance": [],
      "collapsed_sections": [],
      "authorship_tag": "ABX9TyPnpJfAyAWaTYR9D3yXlJBO",
      "include_colab_link": true
    },
    "kernelspec": {
      "name": "python3",
      "display_name": "Python 3"
    },
    "language_info": {
      "name": "python"
    }
  },
  "cells": [
    {
      "cell_type": "markdown",
      "metadata": {
        "id": "view-in-github",
        "colab_type": "text"
      },
      "source": [
        "<a href=\"https://colab.research.google.com/github/CezarMassayoshi/IndicadoresTCC/blob/main/AZUL4.ipynb\" target=\"_parent\"><img src=\"https://colab.research.google.com/assets/colab-badge.svg\" alt=\"Open In Colab\"/></a>"
      ]
    },
    {
      "cell_type": "markdown",
      "source": [
        "## Instalando as bibliotecas"
      ],
      "metadata": {
        "id": "NOwZjsTzL5k3"
      }
    },
    {
      "cell_type": "code",
      "source": [
        "#Instalando a Biblioteca Investpy\n",
        "!pip install investpy"
      ],
      "metadata": {
        "colab": {
          "base_uri": "https://localhost:8080/"
        },
        "id": "yCXlmbrZL9pL",
        "outputId": "a9fcead1-25c2-44cf-b408-f129ed8ed84d"
      },
      "execution_count": null,
      "outputs": [
        {
          "output_type": "stream",
          "name": "stdout",
          "text": [
            "Looking in indexes: https://pypi.org/simple, https://us-python.pkg.dev/colab-wheels/public/simple/\n",
            "Collecting investpy\n",
            "  Downloading investpy-1.0.8.tar.gz (4.4 MB)\n",
            "\u001b[K     |████████████████████████████████| 4.4 MB 8.9 MB/s \n",
            "\u001b[?25hCollecting Unidecode>=1.1.1\n",
            "  Downloading Unidecode-1.3.4-py3-none-any.whl (235 kB)\n",
            "\u001b[K     |████████████████████████████████| 235 kB 44.9 MB/s \n",
            "\u001b[?25hRequirement already satisfied: setuptools>=41.2.0 in /usr/local/lib/python3.7/dist-packages (from investpy) (57.4.0)\n",
            "Requirement already satisfied: numpy>=1.17.2 in /usr/local/lib/python3.7/dist-packages (from investpy) (1.21.6)\n",
            "Requirement already satisfied: pandas>=0.25.1 in /usr/local/lib/python3.7/dist-packages (from investpy) (1.3.5)\n",
            "Collecting lxml>=4.4.1\n",
            "  Downloading lxml-4.9.1-cp37-cp37m-manylinux_2_17_x86_64.manylinux2014_x86_64.manylinux_2_24_x86_64.whl (6.4 MB)\n",
            "\u001b[K     |████████████████████████████████| 6.4 MB 47.4 MB/s \n",
            "\u001b[?25hRequirement already satisfied: requests>=2.22.0 in /usr/local/lib/python3.7/dist-packages (from investpy) (2.23.0)\n",
            "Requirement already satisfied: pytz>=2019.3 in /usr/local/lib/python3.7/dist-packages (from investpy) (2022.1)\n",
            "Requirement already satisfied: python-dateutil>=2.7.3 in /usr/local/lib/python3.7/dist-packages (from pandas>=0.25.1->investpy) (2.8.2)\n",
            "Requirement already satisfied: six>=1.5 in /usr/local/lib/python3.7/dist-packages (from python-dateutil>=2.7.3->pandas>=0.25.1->investpy) (1.15.0)\n",
            "Requirement already satisfied: idna<3,>=2.5 in /usr/local/lib/python3.7/dist-packages (from requests>=2.22.0->investpy) (2.10)\n",
            "Requirement already satisfied: chardet<4,>=3.0.2 in /usr/local/lib/python3.7/dist-packages (from requests>=2.22.0->investpy) (3.0.4)\n",
            "Requirement already satisfied: urllib3!=1.25.0,!=1.25.1,<1.26,>=1.21.1 in /usr/local/lib/python3.7/dist-packages (from requests>=2.22.0->investpy) (1.24.3)\n",
            "Requirement already satisfied: certifi>=2017.4.17 in /usr/local/lib/python3.7/dist-packages (from requests>=2.22.0->investpy) (2022.6.15)\n",
            "Building wheels for collected packages: investpy\n",
            "  Building wheel for investpy (setup.py) ... \u001b[?25l\u001b[?25hdone\n",
            "  Created wheel for investpy: filename=investpy-1.0.8-py3-none-any.whl size=4481592 sha256=53dbc140a635ab7f87f87e511f4ce55886497ff148519857130211f5f2ff58fe\n",
            "  Stored in directory: /root/.cache/pip/wheels/96/a8/a5/0d33c72eaf00b41df7b9dc1e15d2b7c7154b3f1379ed350211\n",
            "Successfully built investpy\n",
            "Installing collected packages: Unidecode, lxml, investpy\n",
            "  Attempting uninstall: lxml\n",
            "    Found existing installation: lxml 4.2.6\n",
            "    Uninstalling lxml-4.2.6:\n",
            "      Successfully uninstalled lxml-4.2.6\n",
            "Successfully installed Unidecode-1.3.4 investpy-1.0.8 lxml-4.9.1\n"
          ]
        }
      ]
    },
    {
      "cell_type": "code",
      "source": [
        "import pandas as pd #importando a biblioteca do pandas\n",
        "import investpy as inv #importando a biblioteca do investpy"
      ],
      "metadata": {
        "id": "n2aKjNIPMCHl"
      },
      "execution_count": null,
      "outputs": []
    },
    {
      "cell_type": "markdown",
      "source": [
        "### Importando dados da biblioteca Investpy"
      ],
      "metadata": {
        "id": "Iua3lnb3MQUo"
      }
    },
    {
      "cell_type": "code",
      "source": [
        "ticker = \"azul4\" #para alterar o ativo desejado é so mudar a sigla do ativo escolhido"
      ],
      "metadata": {
        "id": "_-0035tUMYh6"
      },
      "execution_count": null,
      "outputs": []
    },
    {
      "cell_type": "code",
      "source": [
        "inv.get_stock_company_profile(ticker, country= 'Brazil') #informações sobre o ativo analisado"
      ],
      "metadata": {
        "colab": {
          "base_uri": "https://localhost:8080/"
        },
        "id": "kKpML8AxMiM9",
        "outputId": "551afef6-2394-4845-fdf4-c43f6b00fb37"
      },
      "execution_count": null,
      "outputs": [
        {
          "output_type": "execute_result",
          "data": {
            "text/plain": [
              "{'desc': 'Azul S.A., together with its subsidiaries, provides passenger and cargo transportation services in Brazil. As of December 31, 2021, the company operated 850 daily departures to 125 destinations through a network of 259 non-stop routes with a fleet of 179 aircraft. It is also involved in the loyalty programs, travel packages, investment fund, logistics solutions, and aircraft financing activities. The company was incorporated in 2008 and is headquartered in Barueri, Brazil.',\n",
              " 'url': 'https://www.investing.com/equities/azul-sa-pref-company-profile'}"
            ]
          },
          "metadata": {},
          "execution_count": 8
        }
      ]
    },
    {
      "cell_type": "code",
      "source": [
        "tabela_valores = inv.get_stock_information( ticker, country = 'brazil') #importando os dados do site invest.com "
      ],
      "metadata": {
        "id": "khUIVub2NVcS"
      },
      "execution_count": null,
      "outputs": []
    },
    {
      "cell_type": "code",
      "source": [
        "tabela_valores #exibindo os dados escolhidos"
      ],
      "metadata": {
        "colab": {
          "base_uri": "https://localhost:8080/",
          "height": 159
        },
        "id": "r90sV-4uNZn0",
        "outputId": "a329f4e2-4e28-4bae-c2b6-aa17f39ece22"
      },
      "execution_count": null,
      "outputs": [
        {
          "output_type": "execute_result",
          "data": {
            "text/plain": [
              "  Stock Symbol  Prev. Close Todays Range       Revenue   Open  52 wk Range  \\\n",
              "0        AZUL4        12.47  12.27-12.74  1.134000e+10  12.35  11.98-44.99   \n",
              "\n",
              "    EPS     Volume    Market Cap Dividend (Yield)  Average Vol. (3m)  \\\n",
              "0  1.81  4470600.0  4.280000e+09         N/A(N/A)          8169924.0   \n",
              "\n",
              "   P/E Ratio  Beta 1-Year Change  Shares Outstanding Next Earnings Date  \n",
              "0        6.9  1.81       -72.12%         347592120.0         11/08/2022  "
            ],
            "text/html": [
              "\n",
              "  <div id=\"df-1d68a283-9edd-4644-9916-e6264fecfed2\">\n",
              "    <div class=\"colab-df-container\">\n",
              "      <div>\n",
              "<style scoped>\n",
              "    .dataframe tbody tr th:only-of-type {\n",
              "        vertical-align: middle;\n",
              "    }\n",
              "\n",
              "    .dataframe tbody tr th {\n",
              "        vertical-align: top;\n",
              "    }\n",
              "\n",
              "    .dataframe thead th {\n",
              "        text-align: right;\n",
              "    }\n",
              "</style>\n",
              "<table border=\"1\" class=\"dataframe\">\n",
              "  <thead>\n",
              "    <tr style=\"text-align: right;\">\n",
              "      <th></th>\n",
              "      <th>Stock Symbol</th>\n",
              "      <th>Prev. Close</th>\n",
              "      <th>Todays Range</th>\n",
              "      <th>Revenue</th>\n",
              "      <th>Open</th>\n",
              "      <th>52 wk Range</th>\n",
              "      <th>EPS</th>\n",
              "      <th>Volume</th>\n",
              "      <th>Market Cap</th>\n",
              "      <th>Dividend (Yield)</th>\n",
              "      <th>Average Vol. (3m)</th>\n",
              "      <th>P/E Ratio</th>\n",
              "      <th>Beta</th>\n",
              "      <th>1-Year Change</th>\n",
              "      <th>Shares Outstanding</th>\n",
              "      <th>Next Earnings Date</th>\n",
              "    </tr>\n",
              "  </thead>\n",
              "  <tbody>\n",
              "    <tr>\n",
              "      <th>0</th>\n",
              "      <td>AZUL4</td>\n",
              "      <td>12.47</td>\n",
              "      <td>12.27-12.74</td>\n",
              "      <td>1.134000e+10</td>\n",
              "      <td>12.35</td>\n",
              "      <td>11.98-44.99</td>\n",
              "      <td>1.81</td>\n",
              "      <td>4470600.0</td>\n",
              "      <td>4.280000e+09</td>\n",
              "      <td>N/A(N/A)</td>\n",
              "      <td>8169924.0</td>\n",
              "      <td>6.9</td>\n",
              "      <td>1.81</td>\n",
              "      <td>-72.12%</td>\n",
              "      <td>347592120.0</td>\n",
              "      <td>11/08/2022</td>\n",
              "    </tr>\n",
              "  </tbody>\n",
              "</table>\n",
              "</div>\n",
              "      <button class=\"colab-df-convert\" onclick=\"convertToInteractive('df-1d68a283-9edd-4644-9916-e6264fecfed2')\"\n",
              "              title=\"Convert this dataframe to an interactive table.\"\n",
              "              style=\"display:none;\">\n",
              "        \n",
              "  <svg xmlns=\"http://www.w3.org/2000/svg\" height=\"24px\"viewBox=\"0 0 24 24\"\n",
              "       width=\"24px\">\n",
              "    <path d=\"M0 0h24v24H0V0z\" fill=\"none\"/>\n",
              "    <path d=\"M18.56 5.44l.94 2.06.94-2.06 2.06-.94-2.06-.94-.94-2.06-.94 2.06-2.06.94zm-11 1L8.5 8.5l.94-2.06 2.06-.94-2.06-.94L8.5 2.5l-.94 2.06-2.06.94zm10 10l.94 2.06.94-2.06 2.06-.94-2.06-.94-.94-2.06-.94 2.06-2.06.94z\"/><path d=\"M17.41 7.96l-1.37-1.37c-.4-.4-.92-.59-1.43-.59-.52 0-1.04.2-1.43.59L10.3 9.45l-7.72 7.72c-.78.78-.78 2.05 0 2.83L4 21.41c.39.39.9.59 1.41.59.51 0 1.02-.2 1.41-.59l7.78-7.78 2.81-2.81c.8-.78.8-2.07 0-2.86zM5.41 20L4 18.59l7.72-7.72 1.47 1.35L5.41 20z\"/>\n",
              "  </svg>\n",
              "      </button>\n",
              "      \n",
              "  <style>\n",
              "    .colab-df-container {\n",
              "      display:flex;\n",
              "      flex-wrap:wrap;\n",
              "      gap: 12px;\n",
              "    }\n",
              "\n",
              "    .colab-df-convert {\n",
              "      background-color: #E8F0FE;\n",
              "      border: none;\n",
              "      border-radius: 50%;\n",
              "      cursor: pointer;\n",
              "      display: none;\n",
              "      fill: #1967D2;\n",
              "      height: 32px;\n",
              "      padding: 0 0 0 0;\n",
              "      width: 32px;\n",
              "    }\n",
              "\n",
              "    .colab-df-convert:hover {\n",
              "      background-color: #E2EBFA;\n",
              "      box-shadow: 0px 1px 2px rgba(60, 64, 67, 0.3), 0px 1px 3px 1px rgba(60, 64, 67, 0.15);\n",
              "      fill: #174EA6;\n",
              "    }\n",
              "\n",
              "    [theme=dark] .colab-df-convert {\n",
              "      background-color: #3B4455;\n",
              "      fill: #D2E3FC;\n",
              "    }\n",
              "\n",
              "    [theme=dark] .colab-df-convert:hover {\n",
              "      background-color: #434B5C;\n",
              "      box-shadow: 0px 1px 3px 1px rgba(0, 0, 0, 0.15);\n",
              "      filter: drop-shadow(0px 1px 2px rgba(0, 0, 0, 0.3));\n",
              "      fill: #FFFFFF;\n",
              "    }\n",
              "  </style>\n",
              "\n",
              "      <script>\n",
              "        const buttonEl =\n",
              "          document.querySelector('#df-1d68a283-9edd-4644-9916-e6264fecfed2 button.colab-df-convert');\n",
              "        buttonEl.style.display =\n",
              "          google.colab.kernel.accessAllowed ? 'block' : 'none';\n",
              "\n",
              "        async function convertToInteractive(key) {\n",
              "          const element = document.querySelector('#df-1d68a283-9edd-4644-9916-e6264fecfed2');\n",
              "          const dataTable =\n",
              "            await google.colab.kernel.invokeFunction('convertToInteractive',\n",
              "                                                     [key], {});\n",
              "          if (!dataTable) return;\n",
              "\n",
              "          const docLinkHtml = 'Like what you see? Visit the ' +\n",
              "            '<a target=\"_blank\" href=https://colab.research.google.com/notebooks/data_table.ipynb>data table notebook</a>'\n",
              "            + ' to learn more about interactive tables.';\n",
              "          element.innerHTML = '';\n",
              "          dataTable['output_type'] = 'display_data';\n",
              "          await google.colab.output.renderOutput(dataTable, element);\n",
              "          const docLink = document.createElement('div');\n",
              "          docLink.innerHTML = docLinkHtml;\n",
              "          element.appendChild(docLink);\n",
              "        }\n",
              "      </script>\n",
              "    </div>\n",
              "  </div>\n",
              "  "
            ]
          },
          "metadata": {},
          "execution_count": 10
        }
      ]
    },
    {
      "cell_type": "code",
      "source": [
        "#Excluindo os dados não utilziados na tabela\n",
        "dfi = tabela_valores.drop(columns=['Stock Symbol','Todays Range','Revenue','Open','52 wk Range','Volume','Average Vol. (3m)','P/E Ratio',\t'Beta',\t'1-Year Change','Market Cap',\t'Next Earnings Date'])"
      ],
      "metadata": {
        "id": "yBDZhawyNfnR"
      },
      "execution_count": null,
      "outputs": []
    },
    {
      "cell_type": "code",
      "source": [
        "dfi #exibindo a tabela, sendo Prev. Close o preço do ativo, EPS lucro por ação e Shares Outstanding o total de quantidades de ações"
      ],
      "metadata": {
        "colab": {
          "base_uri": "https://localhost:8080/",
          "height": 81
        },
        "id": "64aJdwDFNk4n",
        "outputId": "58db94d7-61be-46b6-fe1d-c486705a6600"
      },
      "execution_count": null,
      "outputs": [
        {
          "output_type": "execute_result",
          "data": {
            "text/plain": [
              "   Prev. Close   EPS Dividend (Yield)  Shares Outstanding\n",
              "0        12.47  1.81         N/A(N/A)         347592120.0"
            ],
            "text/html": [
              "\n",
              "  <div id=\"df-9d36af52-65e0-4c4e-8a0c-f202966f1aa2\">\n",
              "    <div class=\"colab-df-container\">\n",
              "      <div>\n",
              "<style scoped>\n",
              "    .dataframe tbody tr th:only-of-type {\n",
              "        vertical-align: middle;\n",
              "    }\n",
              "\n",
              "    .dataframe tbody tr th {\n",
              "        vertical-align: top;\n",
              "    }\n",
              "\n",
              "    .dataframe thead th {\n",
              "        text-align: right;\n",
              "    }\n",
              "</style>\n",
              "<table border=\"1\" class=\"dataframe\">\n",
              "  <thead>\n",
              "    <tr style=\"text-align: right;\">\n",
              "      <th></th>\n",
              "      <th>Prev. Close</th>\n",
              "      <th>EPS</th>\n",
              "      <th>Dividend (Yield)</th>\n",
              "      <th>Shares Outstanding</th>\n",
              "    </tr>\n",
              "  </thead>\n",
              "  <tbody>\n",
              "    <tr>\n",
              "      <th>0</th>\n",
              "      <td>12.47</td>\n",
              "      <td>1.81</td>\n",
              "      <td>N/A(N/A)</td>\n",
              "      <td>347592120.0</td>\n",
              "    </tr>\n",
              "  </tbody>\n",
              "</table>\n",
              "</div>\n",
              "      <button class=\"colab-df-convert\" onclick=\"convertToInteractive('df-9d36af52-65e0-4c4e-8a0c-f202966f1aa2')\"\n",
              "              title=\"Convert this dataframe to an interactive table.\"\n",
              "              style=\"display:none;\">\n",
              "        \n",
              "  <svg xmlns=\"http://www.w3.org/2000/svg\" height=\"24px\"viewBox=\"0 0 24 24\"\n",
              "       width=\"24px\">\n",
              "    <path d=\"M0 0h24v24H0V0z\" fill=\"none\"/>\n",
              "    <path d=\"M18.56 5.44l.94 2.06.94-2.06 2.06-.94-2.06-.94-.94-2.06-.94 2.06-2.06.94zm-11 1L8.5 8.5l.94-2.06 2.06-.94-2.06-.94L8.5 2.5l-.94 2.06-2.06.94zm10 10l.94 2.06.94-2.06 2.06-.94-2.06-.94-.94-2.06-.94 2.06-2.06.94z\"/><path d=\"M17.41 7.96l-1.37-1.37c-.4-.4-.92-.59-1.43-.59-.52 0-1.04.2-1.43.59L10.3 9.45l-7.72 7.72c-.78.78-.78 2.05 0 2.83L4 21.41c.39.39.9.59 1.41.59.51 0 1.02-.2 1.41-.59l7.78-7.78 2.81-2.81c.8-.78.8-2.07 0-2.86zM5.41 20L4 18.59l7.72-7.72 1.47 1.35L5.41 20z\"/>\n",
              "  </svg>\n",
              "      </button>\n",
              "      \n",
              "  <style>\n",
              "    .colab-df-container {\n",
              "      display:flex;\n",
              "      flex-wrap:wrap;\n",
              "      gap: 12px;\n",
              "    }\n",
              "\n",
              "    .colab-df-convert {\n",
              "      background-color: #E8F0FE;\n",
              "      border: none;\n",
              "      border-radius: 50%;\n",
              "      cursor: pointer;\n",
              "      display: none;\n",
              "      fill: #1967D2;\n",
              "      height: 32px;\n",
              "      padding: 0 0 0 0;\n",
              "      width: 32px;\n",
              "    }\n",
              "\n",
              "    .colab-df-convert:hover {\n",
              "      background-color: #E2EBFA;\n",
              "      box-shadow: 0px 1px 2px rgba(60, 64, 67, 0.3), 0px 1px 3px 1px rgba(60, 64, 67, 0.15);\n",
              "      fill: #174EA6;\n",
              "    }\n",
              "\n",
              "    [theme=dark] .colab-df-convert {\n",
              "      background-color: #3B4455;\n",
              "      fill: #D2E3FC;\n",
              "    }\n",
              "\n",
              "    [theme=dark] .colab-df-convert:hover {\n",
              "      background-color: #434B5C;\n",
              "      box-shadow: 0px 1px 3px 1px rgba(0, 0, 0, 0.15);\n",
              "      filter: drop-shadow(0px 1px 2px rgba(0, 0, 0, 0.3));\n",
              "      fill: #FFFFFF;\n",
              "    }\n",
              "  </style>\n",
              "\n",
              "      <script>\n",
              "        const buttonEl =\n",
              "          document.querySelector('#df-9d36af52-65e0-4c4e-8a0c-f202966f1aa2 button.colab-df-convert');\n",
              "        buttonEl.style.display =\n",
              "          google.colab.kernel.accessAllowed ? 'block' : 'none';\n",
              "\n",
              "        async function convertToInteractive(key) {\n",
              "          const element = document.querySelector('#df-9d36af52-65e0-4c4e-8a0c-f202966f1aa2');\n",
              "          const dataTable =\n",
              "            await google.colab.kernel.invokeFunction('convertToInteractive',\n",
              "                                                     [key], {});\n",
              "          if (!dataTable) return;\n",
              "\n",
              "          const docLinkHtml = 'Like what you see? Visit the ' +\n",
              "            '<a target=\"_blank\" href=https://colab.research.google.com/notebooks/data_table.ipynb>data table notebook</a>'\n",
              "            + ' to learn more about interactive tables.';\n",
              "          element.innerHTML = '';\n",
              "          dataTable['output_type'] = 'display_data';\n",
              "          await google.colab.output.renderOutput(dataTable, element);\n",
              "          const docLink = document.createElement('div');\n",
              "          docLink.innerHTML = docLinkHtml;\n",
              "          element.appendChild(docLink);\n",
              "        }\n",
              "      </script>\n",
              "    </div>\n",
              "  </div>\n",
              "  "
            ]
          },
          "metadata": {},
          "execution_count": 12
        }
      ]
    },
    {
      "cell_type": "code",
      "source": [
        "#Buscando o dados financeiros dos ultimos anos, sendo Total Revenue o patrimonio Liquido e Net Income o lucro líquido\n",
        "dfe = inv.get_stock_financial_summary(stock=ticker, country= 'Brazil',summary_type='income_statement',period = 'annual')\n",
        "dfe "
      ],
      "metadata": {
        "colab": {
          "base_uri": "https://localhost:8080/",
          "height": 206
        },
        "id": "X1xRBwVENnf5",
        "outputId": "e11eae46-8b42-4686-8910-d04e2ae2ebfb"
      },
      "execution_count": null,
      "outputs": [
        {
          "output_type": "execute_result",
          "data": {
            "text/plain": [
              "            Total Revenue  Gross Profit  Operating Income  Net Income\n",
              "Date                                                                 \n",
              "2021-12-31        9975.73       5098.67             54.80    -4213.21\n",
              "2020-12-31        5744.13       3016.88          -1399.08   -10834.71\n",
              "2019-12-31       11442.32       6801.16          -1195.40    -2403.09\n",
              "2018-12-31        9057.06       5175.20           1193.62     -635.73"
            ],
            "text/html": [
              "\n",
              "  <div id=\"df-616ffab6-6c40-42ae-b89f-d2b7da79c693\">\n",
              "    <div class=\"colab-df-container\">\n",
              "      <div>\n",
              "<style scoped>\n",
              "    .dataframe tbody tr th:only-of-type {\n",
              "        vertical-align: middle;\n",
              "    }\n",
              "\n",
              "    .dataframe tbody tr th {\n",
              "        vertical-align: top;\n",
              "    }\n",
              "\n",
              "    .dataframe thead th {\n",
              "        text-align: right;\n",
              "    }\n",
              "</style>\n",
              "<table border=\"1\" class=\"dataframe\">\n",
              "  <thead>\n",
              "    <tr style=\"text-align: right;\">\n",
              "      <th></th>\n",
              "      <th>Total Revenue</th>\n",
              "      <th>Gross Profit</th>\n",
              "      <th>Operating Income</th>\n",
              "      <th>Net Income</th>\n",
              "    </tr>\n",
              "    <tr>\n",
              "      <th>Date</th>\n",
              "      <th></th>\n",
              "      <th></th>\n",
              "      <th></th>\n",
              "      <th></th>\n",
              "    </tr>\n",
              "  </thead>\n",
              "  <tbody>\n",
              "    <tr>\n",
              "      <th>2021-12-31</th>\n",
              "      <td>9975.73</td>\n",
              "      <td>5098.67</td>\n",
              "      <td>54.80</td>\n",
              "      <td>-4213.21</td>\n",
              "    </tr>\n",
              "    <tr>\n",
              "      <th>2020-12-31</th>\n",
              "      <td>5744.13</td>\n",
              "      <td>3016.88</td>\n",
              "      <td>-1399.08</td>\n",
              "      <td>-10834.71</td>\n",
              "    </tr>\n",
              "    <tr>\n",
              "      <th>2019-12-31</th>\n",
              "      <td>11442.32</td>\n",
              "      <td>6801.16</td>\n",
              "      <td>-1195.40</td>\n",
              "      <td>-2403.09</td>\n",
              "    </tr>\n",
              "    <tr>\n",
              "      <th>2018-12-31</th>\n",
              "      <td>9057.06</td>\n",
              "      <td>5175.20</td>\n",
              "      <td>1193.62</td>\n",
              "      <td>-635.73</td>\n",
              "    </tr>\n",
              "  </tbody>\n",
              "</table>\n",
              "</div>\n",
              "      <button class=\"colab-df-convert\" onclick=\"convertToInteractive('df-616ffab6-6c40-42ae-b89f-d2b7da79c693')\"\n",
              "              title=\"Convert this dataframe to an interactive table.\"\n",
              "              style=\"display:none;\">\n",
              "        \n",
              "  <svg xmlns=\"http://www.w3.org/2000/svg\" height=\"24px\"viewBox=\"0 0 24 24\"\n",
              "       width=\"24px\">\n",
              "    <path d=\"M0 0h24v24H0V0z\" fill=\"none\"/>\n",
              "    <path d=\"M18.56 5.44l.94 2.06.94-2.06 2.06-.94-2.06-.94-.94-2.06-.94 2.06-2.06.94zm-11 1L8.5 8.5l.94-2.06 2.06-.94-2.06-.94L8.5 2.5l-.94 2.06-2.06.94zm10 10l.94 2.06.94-2.06 2.06-.94-2.06-.94-.94-2.06-.94 2.06-2.06.94z\"/><path d=\"M17.41 7.96l-1.37-1.37c-.4-.4-.92-.59-1.43-.59-.52 0-1.04.2-1.43.59L10.3 9.45l-7.72 7.72c-.78.78-.78 2.05 0 2.83L4 21.41c.39.39.9.59 1.41.59.51 0 1.02-.2 1.41-.59l7.78-7.78 2.81-2.81c.8-.78.8-2.07 0-2.86zM5.41 20L4 18.59l7.72-7.72 1.47 1.35L5.41 20z\"/>\n",
              "  </svg>\n",
              "      </button>\n",
              "      \n",
              "  <style>\n",
              "    .colab-df-container {\n",
              "      display:flex;\n",
              "      flex-wrap:wrap;\n",
              "      gap: 12px;\n",
              "    }\n",
              "\n",
              "    .colab-df-convert {\n",
              "      background-color: #E8F0FE;\n",
              "      border: none;\n",
              "      border-radius: 50%;\n",
              "      cursor: pointer;\n",
              "      display: none;\n",
              "      fill: #1967D2;\n",
              "      height: 32px;\n",
              "      padding: 0 0 0 0;\n",
              "      width: 32px;\n",
              "    }\n",
              "\n",
              "    .colab-df-convert:hover {\n",
              "      background-color: #E2EBFA;\n",
              "      box-shadow: 0px 1px 2px rgba(60, 64, 67, 0.3), 0px 1px 3px 1px rgba(60, 64, 67, 0.15);\n",
              "      fill: #174EA6;\n",
              "    }\n",
              "\n",
              "    [theme=dark] .colab-df-convert {\n",
              "      background-color: #3B4455;\n",
              "      fill: #D2E3FC;\n",
              "    }\n",
              "\n",
              "    [theme=dark] .colab-df-convert:hover {\n",
              "      background-color: #434B5C;\n",
              "      box-shadow: 0px 1px 3px 1px rgba(0, 0, 0, 0.15);\n",
              "      filter: drop-shadow(0px 1px 2px rgba(0, 0, 0, 0.3));\n",
              "      fill: #FFFFFF;\n",
              "    }\n",
              "  </style>\n",
              "\n",
              "      <script>\n",
              "        const buttonEl =\n",
              "          document.querySelector('#df-616ffab6-6c40-42ae-b89f-d2b7da79c693 button.colab-df-convert');\n",
              "        buttonEl.style.display =\n",
              "          google.colab.kernel.accessAllowed ? 'block' : 'none';\n",
              "\n",
              "        async function convertToInteractive(key) {\n",
              "          const element = document.querySelector('#df-616ffab6-6c40-42ae-b89f-d2b7da79c693');\n",
              "          const dataTable =\n",
              "            await google.colab.kernel.invokeFunction('convertToInteractive',\n",
              "                                                     [key], {});\n",
              "          if (!dataTable) return;\n",
              "\n",
              "          const docLinkHtml = 'Like what you see? Visit the ' +\n",
              "            '<a target=\"_blank\" href=https://colab.research.google.com/notebooks/data_table.ipynb>data table notebook</a>'\n",
              "            + ' to learn more about interactive tables.';\n",
              "          element.innerHTML = '';\n",
              "          dataTable['output_type'] = 'display_data';\n",
              "          await google.colab.output.renderOutput(dataTable, element);\n",
              "          const docLink = document.createElement('div');\n",
              "          docLink.innerHTML = docLinkHtml;\n",
              "          element.appendChild(docLink);\n",
              "        }\n",
              "      </script>\n",
              "    </div>\n",
              "  </div>\n",
              "  "
            ]
          },
          "metadata": {},
          "execution_count": 13
        }
      ]
    },
    {
      "cell_type": "markdown",
      "source": [
        "# Pegando os dados da tabela do Investpy\n"
      ],
      "metadata": {
        "id": "qvNP26ruNytv"
      }
    },
    {
      "cell_type": "code",
      "source": [
        "p = dfi['Prev. Close'][0] #preço da ação\n",
        "p"
      ],
      "metadata": {
        "colab": {
          "base_uri": "https://localhost:8080/"
        },
        "id": "F0vMJFrrNzOq",
        "outputId": "63654a82-aae0-4d5b-bbdb-4030fd2eecfe"
      },
      "execution_count": null,
      "outputs": [
        {
          "output_type": "execute_result",
          "data": {
            "text/plain": [
              "12.47"
            ]
          },
          "metadata": {},
          "execution_count": 14
        }
      ]
    },
    {
      "cell_type": "code",
      "source": [
        "l = dfi['EPS'][0] #lucro por ação\n",
        "l"
      ],
      "metadata": {
        "colab": {
          "base_uri": "https://localhost:8080/"
        },
        "id": "4eZVwMLJN-mj",
        "outputId": "1e415e98-3be8-4a2c-fa9a-b05a48058ed1"
      },
      "execution_count": null,
      "outputs": [
        {
          "output_type": "execute_result",
          "data": {
            "text/plain": [
              "1.81"
            ]
          },
          "metadata": {},
          "execution_count": 15
        }
      ]
    },
    {
      "cell_type": "code",
      "source": [
        "qtdacao = dfi['Shares Outstanding'][0] #quantidade de ação\n",
        "qtdacao"
      ],
      "metadata": {
        "colab": {
          "base_uri": "https://localhost:8080/"
        },
        "id": "INmbffsHOCWZ",
        "outputId": "5b0f0c8b-d70f-46c6-9f15-ef9c837381c7"
      },
      "execution_count": null,
      "outputs": [
        {
          "output_type": "execute_result",
          "data": {
            "text/plain": [
              "347592120.0"
            ]
          },
          "metadata": {},
          "execution_count": 16
        }
      ]
    },
    {
      "cell_type": "code",
      "source": [
        "##NAO POSSUI DIVIDENDOS A AZUL\n",
        "##dividendos = dfi['Dividend (Yield)'][0] #dividendos pago nos ultimos 12 meses\n",
        "##div12 = dividendos.split(\"(\")[0]\n",
        "##div12 = float(div12)\n",
        "##div12"
      ],
      "metadata": {
        "id": "x2FbLtwDOEBQ"
      },
      "execution_count": null,
      "outputs": []
    },
    {
      "cell_type": "code",
      "source": [
        "lucroliq = dfe['Net Income'][0] # lucro liquido \n",
        "lucroliq = lucroliq*(10**6)\n",
        "lucroliq"
      ],
      "metadata": {
        "colab": {
          "base_uri": "https://localhost:8080/"
        },
        "id": "36-2vzqjOGZr",
        "outputId": "d0177ee2-4ea4-4f49-9c00-d75350b114c9"
      },
      "execution_count": null,
      "outputs": [
        {
          "output_type": "execute_result",
          "data": {
            "text/plain": [
              "-4213210000.0"
            ]
          },
          "metadata": {},
          "execution_count": 18
        }
      ]
    },
    {
      "cell_type": "code",
      "source": [
        "patriliq = dfe['Total Revenue'][0] #patrimonio liquido\n",
        "patriliq = patriliq*(10**6)\n",
        "patriliq"
      ],
      "metadata": {
        "colab": {
          "base_uri": "https://localhost:8080/"
        },
        "id": "B5bjYsCYOIFP",
        "outputId": "e707b6e9-994e-4684-b83f-a9a8033a2c6f"
      },
      "execution_count": null,
      "outputs": [
        {
          "output_type": "execute_result",
          "data": {
            "text/plain": [
              "9975730000.0"
            ]
          },
          "metadata": {},
          "execution_count": 19
        }
      ]
    },
    {
      "cell_type": "markdown",
      "source": [
        "# Calculo dos indicadores"
      ],
      "metadata": {
        "id": "Uwfw-WO_OP5F"
      }
    },
    {
      "cell_type": "code",
      "source": [
        "##RESULTADOS REFERENTES A AÇÃO AZUL4\n",
        "#Azul companhia aereas\n",
        "# VARIAVEIS PARA O CALCULO DOS INDICADORES\n",
        "vpa = patriliq/qtdacao #valor patrimonial\n",
        "\n",
        "def primeiroindicador(pl):\n",
        "    if pl<0:\n",
        "        print(\"O lucro por ação é negativo\")\n",
        "    else:\n",
        "        pass\n",
        "\n",
        "def segundoindicador(pv):\n",
        "    if 0<pv<1:\n",
        "        pvi= (1-pv)*100\n",
        "        print(\"Pelo segundo indicador a ação está mais barata {}%\".format(pvi))\n",
        "    elif pv<0:\n",
        "        print(\"A empresa tomou prejuizo\")\n",
        "    elif pv==1:\n",
        "        print(\"O preço da ação está no preço que o mercado está disposto a pagar\")\n",
        "    else:\n",
        "        pvs= (pv-1)*100\n",
        "        print(\"Pelo segundo indicador a ação está mais cara {}\".format(pvs))\n",
        "\n",
        "def terceiroindicador(roe):\n",
        "    dinheiroroe= (roe/100)*p\n",
        "    print(\"a valorização total em reais foi de {} de acordo com ROE\".format(dinheiroroe))\n",
        "\n",
        "##def quartoindicador(div12):\n",
        "    ##dinheirodiv= (dy/100)*p\n",
        "    ##print(\"O total pago em dividendo nos ultimos 12 meses é de {}\".format(dinheirodiv))\n",
        "\n",
        "#INDICADORES\n",
        "pl = p/l #primeiro indicador preço por lucro\n",
        "pv = p/vpa #segundo indicador preço por valor patrimonial\n",
        "roe = (lucroliq/patriliq)*100 #retorno sobre o patrimonio\n",
        "##dy = (div12/p)*100 #dividend yield\n",
        "\n",
        "print(\"O  primeiro indicador, preço por lucro é {}\".format(pl))\n",
        "print(\"O  segundo indicador, preço por valor patrimonial é {}\".format(pv))\n",
        "print(\"O  terceiro indificador, retorno sobre o patrimonio(ROE) é {}\".format(roe))\n",
        "##print(\"O quarto e ultimo indicador, Dividend Yield é {}\".format(dy))\n",
        "primeiroindicador(pl)\n",
        "segundoindicador(pv)\n",
        "terceiroindicador(roe)\n",
        "##quartoindicador(div12)"
      ],
      "metadata": {
        "colab": {
          "base_uri": "https://localhost:8080/"
        },
        "id": "V6WzJgPLOQdK",
        "outputId": "d213aa8c-ec16-46a6-9ac9-e9edc4b9fd01"
      },
      "execution_count": null,
      "outputs": [
        {
          "output_type": "stream",
          "name": "stdout",
          "text": [
            "O  primeiro indicador, preço por lucro é 6.889502762430939\n",
            "O  segundo indicador, preço por valor patrimonial é 0.434501909775024\n",
            "O  terceiro indificador, retorno sobre o patrimonio(ROE) é -42.234603382409105\n",
            "Pelo segundo indicador a ação está mais barata 56.5498090224976%\n",
            "a valorização total em reais foi de -5.266655041786415 de acordo com ROE\n"
          ]
        }
      ]
    },
    {
      "cell_type": "code",
      "source": [
        ""
      ],
      "metadata": {
        "id": "0NAlYwMHPcA1"
      },
      "execution_count": null,
      "outputs": []
    }
  ]
}