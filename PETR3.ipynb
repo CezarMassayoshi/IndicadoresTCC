{
  "nbformat": 4,
  "nbformat_minor": 0,
  "metadata": {
    "colab": {
      "name": "PETR3.ipynb",
      "provenance": [],
      "collapsed_sections": [],
      "authorship_tag": "ABX9TyO6z+Nr9270YLf7KQ1vE+gD",
      "include_colab_link": true
    },
    "kernelspec": {
      "name": "python3",
      "display_name": "Python 3"
    },
    "language_info": {
      "name": "python"
    }
  },
  "cells": [
    {
      "cell_type": "markdown",
      "metadata": {
        "id": "view-in-github",
        "colab_type": "text"
      },
      "source": [
        "<a href=\"https://colab.research.google.com/github/CezarMassayoshi/IndicadoresTCC/blob/main/PETR3.ipynb\" target=\"_parent\"><img src=\"https://colab.research.google.com/assets/colab-badge.svg\" alt=\"Open In Colab\"/></a>"
      ]
    },
    {
      "cell_type": "markdown",
      "source": [
        "# Instalando as bibliotecas"
      ],
      "metadata": {
        "id": "Gw8oH1bVy9z3"
      }
    },
    {
      "cell_type": "code",
      "execution_count": null,
      "metadata": {
        "colab": {
          "base_uri": "https://localhost:8080/"
        },
        "id": "wNC295DjDOQ0",
        "outputId": "ff62f6e3-b9fa-47aa-8b2a-1dd794525bae"
      },
      "outputs": [
        {
          "output_type": "stream",
          "name": "stdout",
          "text": [
            "Looking in indexes: https://pypi.org/simple, https://us-python.pkg.dev/colab-wheels/public/simple/\n",
            "Collecting investpy\n",
            "  Downloading investpy-1.0.8.tar.gz (4.4 MB)\n",
            "\u001b[K     |████████████████████████████████| 4.4 MB 5.3 MB/s \n",
            "\u001b[?25hCollecting Unidecode>=1.1.1\n",
            "  Downloading Unidecode-1.3.4-py3-none-any.whl (235 kB)\n",
            "\u001b[K     |████████████████████████████████| 235 kB 41.2 MB/s \n",
            "\u001b[?25hRequirement already satisfied: setuptools>=41.2.0 in /usr/local/lib/python3.7/dist-packages (from investpy) (57.4.0)\n",
            "Requirement already satisfied: numpy>=1.17.2 in /usr/local/lib/python3.7/dist-packages (from investpy) (1.21.6)\n",
            "Requirement already satisfied: pandas>=0.25.1 in /usr/local/lib/python3.7/dist-packages (from investpy) (1.3.5)\n",
            "Collecting lxml>=4.4.1\n",
            "  Downloading lxml-4.9.1-cp37-cp37m-manylinux_2_17_x86_64.manylinux2014_x86_64.manylinux_2_24_x86_64.whl (6.4 MB)\n",
            "\u001b[K     |████████████████████████████████| 6.4 MB 35.3 MB/s \n",
            "\u001b[?25hRequirement already satisfied: requests>=2.22.0 in /usr/local/lib/python3.7/dist-packages (from investpy) (2.23.0)\n",
            "Requirement already satisfied: pytz>=2019.3 in /usr/local/lib/python3.7/dist-packages (from investpy) (2022.1)\n",
            "Requirement already satisfied: python-dateutil>=2.7.3 in /usr/local/lib/python3.7/dist-packages (from pandas>=0.25.1->investpy) (2.8.2)\n",
            "Requirement already satisfied: six>=1.5 in /usr/local/lib/python3.7/dist-packages (from python-dateutil>=2.7.3->pandas>=0.25.1->investpy) (1.15.0)\n",
            "Requirement already satisfied: urllib3!=1.25.0,!=1.25.1,<1.26,>=1.21.1 in /usr/local/lib/python3.7/dist-packages (from requests>=2.22.0->investpy) (1.24.3)\n",
            "Requirement already satisfied: idna<3,>=2.5 in /usr/local/lib/python3.7/dist-packages (from requests>=2.22.0->investpy) (2.10)\n",
            "Requirement already satisfied: certifi>=2017.4.17 in /usr/local/lib/python3.7/dist-packages (from requests>=2.22.0->investpy) (2022.6.15)\n",
            "Requirement already satisfied: chardet<4,>=3.0.2 in /usr/local/lib/python3.7/dist-packages (from requests>=2.22.0->investpy) (3.0.4)\n",
            "Building wheels for collected packages: investpy\n",
            "  Building wheel for investpy (setup.py) ... \u001b[?25l\u001b[?25hdone\n",
            "  Created wheel for investpy: filename=investpy-1.0.8-py3-none-any.whl size=4481592 sha256=64cfed3d01f757bae35e4bff5ac3b6887b799149130e59016848f0b44ef5ee2b\n",
            "  Stored in directory: /root/.cache/pip/wheels/96/a8/a5/0d33c72eaf00b41df7b9dc1e15d2b7c7154b3f1379ed350211\n",
            "Successfully built investpy\n",
            "Installing collected packages: Unidecode, lxml, investpy\n",
            "  Attempting uninstall: lxml\n",
            "    Found existing installation: lxml 4.2.6\n",
            "    Uninstalling lxml-4.2.6:\n",
            "      Successfully uninstalled lxml-4.2.6\n",
            "Successfully installed Unidecode-1.3.4 investpy-1.0.8 lxml-4.9.1\n"
          ]
        }
      ],
      "source": [
        "#Instalando a Biblioteca Investpy\n",
        "!pip install investpy"
      ]
    },
    {
      "cell_type": "code",
      "source": [
        "import pandas as pd #importando a biblioteca do pandas"
      ],
      "metadata": {
        "id": "2FZUGCpiDvor"
      },
      "execution_count": null,
      "outputs": []
    },
    {
      "cell_type": "code",
      "source": [
        "import investpy as inv #importando a biblioteca do investpy"
      ],
      "metadata": {
        "id": "1cKRlP9FEWiW"
      },
      "execution_count": null,
      "outputs": []
    },
    {
      "cell_type": "markdown",
      "source": [
        "# Importando dados da biblioteca Investpy"
      ],
      "metadata": {
        "id": "dIbaCNyQHiBF"
      }
    },
    {
      "cell_type": "code",
      "source": [
        "ticker = \"PETR3\" #para alterar o ativo desejado é so mudar a sigla do ativo escolhido"
      ],
      "metadata": {
        "id": "DJgCEmDCjyS0"
      },
      "execution_count": null,
      "outputs": []
    },
    {
      "cell_type": "code",
      "source": [
        "inv.get_stock_company_profile(ticker, country= 'Brazil') #informações sobre o ativo analisado"
      ],
      "metadata": {
        "colab": {
          "base_uri": "https://localhost:8080/"
        },
        "id": "DWbw54ppLL5A",
        "outputId": "941bdcbc-747c-41a2-e5af-bc3492e2f9c5"
      },
      "execution_count": null,
      "outputs": [
        {
          "output_type": "execute_result",
          "data": {
            "text/plain": [
              "{'desc': 'Petroleo Brasileiro S.A.-Petrobras specializes in the oil, natural gas and energy industry. The Company is engaged in prospecting, drilling, refining, processing, trading and transporting crude oil from producing onshore and offshore oil fields and from shale or other rocks. Its segments include Exploration and Production, which covers the activities of exploration, development and production of crude oil, natural gas liquid and natural gas; Refining, Transportation and Marketing, which covers the refining, logistics, transport and trading of crude oil and oil products activities, exporting of ethanol, and extraction and processing of shale; Gas and Power, which is engaged in transportation and trading of natural gas produced in Brazil and imported natural gas; Biofuels, which covers the activities of production of biodiesel and its co-products, and ethanol-related activities; Distribution, which includes the activities of its subsidiary Petrobras Distribuidora S.A., and Corporate.',\n",
              " 'url': 'https://www.investing.com/equities/petrobras-on-company-profile'}"
            ]
          },
          "metadata": {},
          "execution_count": 5
        }
      ]
    },
    {
      "cell_type": "code",
      "source": [
        "tabela_valores = inv.get_stock_information( ticker, country = 'brazil') #importando os dados do site invest.com "
      ],
      "metadata": {
        "id": "upMyCHSkdSgC"
      },
      "execution_count": null,
      "outputs": []
    },
    {
      "cell_type": "code",
      "source": [
        "tabela_valores #exibindo os dados escolhidos"
      ],
      "metadata": {
        "colab": {
          "base_uri": "https://localhost:8080/",
          "height": 159
        },
        "id": "SPiPt_Uwky3D",
        "outputId": "fc3b66d4-2b52-4c50-c622-0d8b80c4a754"
      },
      "execution_count": null,
      "outputs": [
        {
          "output_type": "execute_result",
          "data": {
            "text/plain": [
              "  Stock Symbol  Prev. Close Todays Range       Revenue   Open 52 wk Range  \\\n",
              "0        PETR3        31.11  31.12-32.13  5.081400e+11  31.16  24.5-39.28   \n",
              "\n",
              "    EPS     Volume    Market Cap Dividend (Yield)  Average Vol. (3m)  \\\n",
              "0  11.5  5745700.0  4.002800e+11  11.5461(36.25%)         16146776.0   \n",
              "\n",
              "   P/E Ratio  Beta 1-Year Change  Shares Outstanding Next Earnings Date  \n",
              "0       2.48  1.43         6.06%        1.304420e+10         04/08/2022  "
            ],
            "text/html": [
              "\n",
              "  <div id=\"df-6b2b8355-713d-4761-89fd-93d09bc0b685\">\n",
              "    <div class=\"colab-df-container\">\n",
              "      <div>\n",
              "<style scoped>\n",
              "    .dataframe tbody tr th:only-of-type {\n",
              "        vertical-align: middle;\n",
              "    }\n",
              "\n",
              "    .dataframe tbody tr th {\n",
              "        vertical-align: top;\n",
              "    }\n",
              "\n",
              "    .dataframe thead th {\n",
              "        text-align: right;\n",
              "    }\n",
              "</style>\n",
              "<table border=\"1\" class=\"dataframe\">\n",
              "  <thead>\n",
              "    <tr style=\"text-align: right;\">\n",
              "      <th></th>\n",
              "      <th>Stock Symbol</th>\n",
              "      <th>Prev. Close</th>\n",
              "      <th>Todays Range</th>\n",
              "      <th>Revenue</th>\n",
              "      <th>Open</th>\n",
              "      <th>52 wk Range</th>\n",
              "      <th>EPS</th>\n",
              "      <th>Volume</th>\n",
              "      <th>Market Cap</th>\n",
              "      <th>Dividend (Yield)</th>\n",
              "      <th>Average Vol. (3m)</th>\n",
              "      <th>P/E Ratio</th>\n",
              "      <th>Beta</th>\n",
              "      <th>1-Year Change</th>\n",
              "      <th>Shares Outstanding</th>\n",
              "      <th>Next Earnings Date</th>\n",
              "    </tr>\n",
              "  </thead>\n",
              "  <tbody>\n",
              "    <tr>\n",
              "      <th>0</th>\n",
              "      <td>PETR3</td>\n",
              "      <td>31.11</td>\n",
              "      <td>31.12-32.13</td>\n",
              "      <td>5.081400e+11</td>\n",
              "      <td>31.16</td>\n",
              "      <td>24.5-39.28</td>\n",
              "      <td>11.5</td>\n",
              "      <td>5745700.0</td>\n",
              "      <td>4.002800e+11</td>\n",
              "      <td>11.5461(36.25%)</td>\n",
              "      <td>16146776.0</td>\n",
              "      <td>2.48</td>\n",
              "      <td>1.43</td>\n",
              "      <td>6.06%</td>\n",
              "      <td>1.304420e+10</td>\n",
              "      <td>04/08/2022</td>\n",
              "    </tr>\n",
              "  </tbody>\n",
              "</table>\n",
              "</div>\n",
              "      <button class=\"colab-df-convert\" onclick=\"convertToInteractive('df-6b2b8355-713d-4761-89fd-93d09bc0b685')\"\n",
              "              title=\"Convert this dataframe to an interactive table.\"\n",
              "              style=\"display:none;\">\n",
              "        \n",
              "  <svg xmlns=\"http://www.w3.org/2000/svg\" height=\"24px\"viewBox=\"0 0 24 24\"\n",
              "       width=\"24px\">\n",
              "    <path d=\"M0 0h24v24H0V0z\" fill=\"none\"/>\n",
              "    <path d=\"M18.56 5.44l.94 2.06.94-2.06 2.06-.94-2.06-.94-.94-2.06-.94 2.06-2.06.94zm-11 1L8.5 8.5l.94-2.06 2.06-.94-2.06-.94L8.5 2.5l-.94 2.06-2.06.94zm10 10l.94 2.06.94-2.06 2.06-.94-2.06-.94-.94-2.06-.94 2.06-2.06.94z\"/><path d=\"M17.41 7.96l-1.37-1.37c-.4-.4-.92-.59-1.43-.59-.52 0-1.04.2-1.43.59L10.3 9.45l-7.72 7.72c-.78.78-.78 2.05 0 2.83L4 21.41c.39.39.9.59 1.41.59.51 0 1.02-.2 1.41-.59l7.78-7.78 2.81-2.81c.8-.78.8-2.07 0-2.86zM5.41 20L4 18.59l7.72-7.72 1.47 1.35L5.41 20z\"/>\n",
              "  </svg>\n",
              "      </button>\n",
              "      \n",
              "  <style>\n",
              "    .colab-df-container {\n",
              "      display:flex;\n",
              "      flex-wrap:wrap;\n",
              "      gap: 12px;\n",
              "    }\n",
              "\n",
              "    .colab-df-convert {\n",
              "      background-color: #E8F0FE;\n",
              "      border: none;\n",
              "      border-radius: 50%;\n",
              "      cursor: pointer;\n",
              "      display: none;\n",
              "      fill: #1967D2;\n",
              "      height: 32px;\n",
              "      padding: 0 0 0 0;\n",
              "      width: 32px;\n",
              "    }\n",
              "\n",
              "    .colab-df-convert:hover {\n",
              "      background-color: #E2EBFA;\n",
              "      box-shadow: 0px 1px 2px rgba(60, 64, 67, 0.3), 0px 1px 3px 1px rgba(60, 64, 67, 0.15);\n",
              "      fill: #174EA6;\n",
              "    }\n",
              "\n",
              "    [theme=dark] .colab-df-convert {\n",
              "      background-color: #3B4455;\n",
              "      fill: #D2E3FC;\n",
              "    }\n",
              "\n",
              "    [theme=dark] .colab-df-convert:hover {\n",
              "      background-color: #434B5C;\n",
              "      box-shadow: 0px 1px 3px 1px rgba(0, 0, 0, 0.15);\n",
              "      filter: drop-shadow(0px 1px 2px rgba(0, 0, 0, 0.3));\n",
              "      fill: #FFFFFF;\n",
              "    }\n",
              "  </style>\n",
              "\n",
              "      <script>\n",
              "        const buttonEl =\n",
              "          document.querySelector('#df-6b2b8355-713d-4761-89fd-93d09bc0b685 button.colab-df-convert');\n",
              "        buttonEl.style.display =\n",
              "          google.colab.kernel.accessAllowed ? 'block' : 'none';\n",
              "\n",
              "        async function convertToInteractive(key) {\n",
              "          const element = document.querySelector('#df-6b2b8355-713d-4761-89fd-93d09bc0b685');\n",
              "          const dataTable =\n",
              "            await google.colab.kernel.invokeFunction('convertToInteractive',\n",
              "                                                     [key], {});\n",
              "          if (!dataTable) return;\n",
              "\n",
              "          const docLinkHtml = 'Like what you see? Visit the ' +\n",
              "            '<a target=\"_blank\" href=https://colab.research.google.com/notebooks/data_table.ipynb>data table notebook</a>'\n",
              "            + ' to learn more about interactive tables.';\n",
              "          element.innerHTML = '';\n",
              "          dataTable['output_type'] = 'display_data';\n",
              "          await google.colab.output.renderOutput(dataTable, element);\n",
              "          const docLink = document.createElement('div');\n",
              "          docLink.innerHTML = docLinkHtml;\n",
              "          element.appendChild(docLink);\n",
              "        }\n",
              "      </script>\n",
              "    </div>\n",
              "  </div>\n",
              "  "
            ]
          },
          "metadata": {},
          "execution_count": 7
        }
      ]
    },
    {
      "cell_type": "code",
      "source": [
        "#Excluindo os dados não utilziados na tabela\n",
        "dfi = tabela_valores.drop(columns=['Stock Symbol','Todays Range','Revenue','Open','52 wk Range','Volume','Average Vol. (3m)','P/E Ratio',\t'Beta',\t'1-Year Change','Market Cap',\t'Next Earnings Date'])"
      ],
      "metadata": {
        "id": "wyy-QSsZk9qv"
      },
      "execution_count": null,
      "outputs": []
    },
    {
      "cell_type": "code",
      "source": [
        "dfi #exibindo a tabela, sendo Prev. Close o preço do ativo, EPS lucro por ação e Shares Outstanding o total de quantidades de ações"
      ],
      "metadata": {
        "colab": {
          "base_uri": "https://localhost:8080/",
          "height": 81
        },
        "id": "qtf5xoJ0xI7P",
        "outputId": "41738a05-821d-4327-c51b-0c107164780c"
      },
      "execution_count": null,
      "outputs": [
        {
          "output_type": "execute_result",
          "data": {
            "text/plain": [
              "   Prev. Close   EPS Dividend (Yield)  Shares Outstanding\n",
              "0        31.11  11.5  11.5461(36.25%)        1.304420e+10"
            ],
            "text/html": [
              "\n",
              "  <div id=\"df-030a11d0-6de4-4d69-a109-9746cd954f9d\">\n",
              "    <div class=\"colab-df-container\">\n",
              "      <div>\n",
              "<style scoped>\n",
              "    .dataframe tbody tr th:only-of-type {\n",
              "        vertical-align: middle;\n",
              "    }\n",
              "\n",
              "    .dataframe tbody tr th {\n",
              "        vertical-align: top;\n",
              "    }\n",
              "\n",
              "    .dataframe thead th {\n",
              "        text-align: right;\n",
              "    }\n",
              "</style>\n",
              "<table border=\"1\" class=\"dataframe\">\n",
              "  <thead>\n",
              "    <tr style=\"text-align: right;\">\n",
              "      <th></th>\n",
              "      <th>Prev. Close</th>\n",
              "      <th>EPS</th>\n",
              "      <th>Dividend (Yield)</th>\n",
              "      <th>Shares Outstanding</th>\n",
              "    </tr>\n",
              "  </thead>\n",
              "  <tbody>\n",
              "    <tr>\n",
              "      <th>0</th>\n",
              "      <td>31.11</td>\n",
              "      <td>11.5</td>\n",
              "      <td>11.5461(36.25%)</td>\n",
              "      <td>1.304420e+10</td>\n",
              "    </tr>\n",
              "  </tbody>\n",
              "</table>\n",
              "</div>\n",
              "      <button class=\"colab-df-convert\" onclick=\"convertToInteractive('df-030a11d0-6de4-4d69-a109-9746cd954f9d')\"\n",
              "              title=\"Convert this dataframe to an interactive table.\"\n",
              "              style=\"display:none;\">\n",
              "        \n",
              "  <svg xmlns=\"http://www.w3.org/2000/svg\" height=\"24px\"viewBox=\"0 0 24 24\"\n",
              "       width=\"24px\">\n",
              "    <path d=\"M0 0h24v24H0V0z\" fill=\"none\"/>\n",
              "    <path d=\"M18.56 5.44l.94 2.06.94-2.06 2.06-.94-2.06-.94-.94-2.06-.94 2.06-2.06.94zm-11 1L8.5 8.5l.94-2.06 2.06-.94-2.06-.94L8.5 2.5l-.94 2.06-2.06.94zm10 10l.94 2.06.94-2.06 2.06-.94-2.06-.94-.94-2.06-.94 2.06-2.06.94z\"/><path d=\"M17.41 7.96l-1.37-1.37c-.4-.4-.92-.59-1.43-.59-.52 0-1.04.2-1.43.59L10.3 9.45l-7.72 7.72c-.78.78-.78 2.05 0 2.83L4 21.41c.39.39.9.59 1.41.59.51 0 1.02-.2 1.41-.59l7.78-7.78 2.81-2.81c.8-.78.8-2.07 0-2.86zM5.41 20L4 18.59l7.72-7.72 1.47 1.35L5.41 20z\"/>\n",
              "  </svg>\n",
              "      </button>\n",
              "      \n",
              "  <style>\n",
              "    .colab-df-container {\n",
              "      display:flex;\n",
              "      flex-wrap:wrap;\n",
              "      gap: 12px;\n",
              "    }\n",
              "\n",
              "    .colab-df-convert {\n",
              "      background-color: #E8F0FE;\n",
              "      border: none;\n",
              "      border-radius: 50%;\n",
              "      cursor: pointer;\n",
              "      display: none;\n",
              "      fill: #1967D2;\n",
              "      height: 32px;\n",
              "      padding: 0 0 0 0;\n",
              "      width: 32px;\n",
              "    }\n",
              "\n",
              "    .colab-df-convert:hover {\n",
              "      background-color: #E2EBFA;\n",
              "      box-shadow: 0px 1px 2px rgba(60, 64, 67, 0.3), 0px 1px 3px 1px rgba(60, 64, 67, 0.15);\n",
              "      fill: #174EA6;\n",
              "    }\n",
              "\n",
              "    [theme=dark] .colab-df-convert {\n",
              "      background-color: #3B4455;\n",
              "      fill: #D2E3FC;\n",
              "    }\n",
              "\n",
              "    [theme=dark] .colab-df-convert:hover {\n",
              "      background-color: #434B5C;\n",
              "      box-shadow: 0px 1px 3px 1px rgba(0, 0, 0, 0.15);\n",
              "      filter: drop-shadow(0px 1px 2px rgba(0, 0, 0, 0.3));\n",
              "      fill: #FFFFFF;\n",
              "    }\n",
              "  </style>\n",
              "\n",
              "      <script>\n",
              "        const buttonEl =\n",
              "          document.querySelector('#df-030a11d0-6de4-4d69-a109-9746cd954f9d button.colab-df-convert');\n",
              "        buttonEl.style.display =\n",
              "          google.colab.kernel.accessAllowed ? 'block' : 'none';\n",
              "\n",
              "        async function convertToInteractive(key) {\n",
              "          const element = document.querySelector('#df-030a11d0-6de4-4d69-a109-9746cd954f9d');\n",
              "          const dataTable =\n",
              "            await google.colab.kernel.invokeFunction('convertToInteractive',\n",
              "                                                     [key], {});\n",
              "          if (!dataTable) return;\n",
              "\n",
              "          const docLinkHtml = 'Like what you see? Visit the ' +\n",
              "            '<a target=\"_blank\" href=https://colab.research.google.com/notebooks/data_table.ipynb>data table notebook</a>'\n",
              "            + ' to learn more about interactive tables.';\n",
              "          element.innerHTML = '';\n",
              "          dataTable['output_type'] = 'display_data';\n",
              "          await google.colab.output.renderOutput(dataTable, element);\n",
              "          const docLink = document.createElement('div');\n",
              "          docLink.innerHTML = docLinkHtml;\n",
              "          element.appendChild(docLink);\n",
              "        }\n",
              "      </script>\n",
              "    </div>\n",
              "  </div>\n",
              "  "
            ]
          },
          "metadata": {},
          "execution_count": 9
        }
      ]
    },
    {
      "cell_type": "code",
      "source": [
        "#Buscando o dados financeiros dos ultimos anos, sendo Total Revenue o patrimonio Liquido e Net Income o lucro líquido\n",
        "dfe = inv.get_stock_financial_summary(stock=ticker, country= 'Brazil',summary_type='income_statement',period = 'annual')\n",
        "dfe "
      ],
      "metadata": {
        "colab": {
          "base_uri": "https://localhost:8080/",
          "height": 206
        },
        "id": "9V-WLHaEP2jS",
        "outputId": "1a3482e4-6634-41c2-8fd5-1b4a446c4041"
      },
      "execution_count": null,
      "outputs": [
        {
          "output_type": "execute_result",
          "data": {
            "text/plain": [
              "            Total Revenue  Gross Profit  Operating Income  Net Income\n",
              "Date                                                                 \n",
              "2021-12-31       452668.0      196052.0          213241.0    106668.0\n",
              "2020-12-31       272069.0       98852.0           58507.0      7108.0\n",
              "2019-12-31       302245.0      101935.0           81701.0     40137.0\n",
              "2018-12-31       310255.0      100606.0           62465.0     25779.0"
            ],
            "text/html": [
              "\n",
              "  <div id=\"df-2ad41095-8987-478b-a1ba-d5e6b7f61ac9\">\n",
              "    <div class=\"colab-df-container\">\n",
              "      <div>\n",
              "<style scoped>\n",
              "    .dataframe tbody tr th:only-of-type {\n",
              "        vertical-align: middle;\n",
              "    }\n",
              "\n",
              "    .dataframe tbody tr th {\n",
              "        vertical-align: top;\n",
              "    }\n",
              "\n",
              "    .dataframe thead th {\n",
              "        text-align: right;\n",
              "    }\n",
              "</style>\n",
              "<table border=\"1\" class=\"dataframe\">\n",
              "  <thead>\n",
              "    <tr style=\"text-align: right;\">\n",
              "      <th></th>\n",
              "      <th>Total Revenue</th>\n",
              "      <th>Gross Profit</th>\n",
              "      <th>Operating Income</th>\n",
              "      <th>Net Income</th>\n",
              "    </tr>\n",
              "    <tr>\n",
              "      <th>Date</th>\n",
              "      <th></th>\n",
              "      <th></th>\n",
              "      <th></th>\n",
              "      <th></th>\n",
              "    </tr>\n",
              "  </thead>\n",
              "  <tbody>\n",
              "    <tr>\n",
              "      <th>2021-12-31</th>\n",
              "      <td>452668.0</td>\n",
              "      <td>196052.0</td>\n",
              "      <td>213241.0</td>\n",
              "      <td>106668.0</td>\n",
              "    </tr>\n",
              "    <tr>\n",
              "      <th>2020-12-31</th>\n",
              "      <td>272069.0</td>\n",
              "      <td>98852.0</td>\n",
              "      <td>58507.0</td>\n",
              "      <td>7108.0</td>\n",
              "    </tr>\n",
              "    <tr>\n",
              "      <th>2019-12-31</th>\n",
              "      <td>302245.0</td>\n",
              "      <td>101935.0</td>\n",
              "      <td>81701.0</td>\n",
              "      <td>40137.0</td>\n",
              "    </tr>\n",
              "    <tr>\n",
              "      <th>2018-12-31</th>\n",
              "      <td>310255.0</td>\n",
              "      <td>100606.0</td>\n",
              "      <td>62465.0</td>\n",
              "      <td>25779.0</td>\n",
              "    </tr>\n",
              "  </tbody>\n",
              "</table>\n",
              "</div>\n",
              "      <button class=\"colab-df-convert\" onclick=\"convertToInteractive('df-2ad41095-8987-478b-a1ba-d5e6b7f61ac9')\"\n",
              "              title=\"Convert this dataframe to an interactive table.\"\n",
              "              style=\"display:none;\">\n",
              "        \n",
              "  <svg xmlns=\"http://www.w3.org/2000/svg\" height=\"24px\"viewBox=\"0 0 24 24\"\n",
              "       width=\"24px\">\n",
              "    <path d=\"M0 0h24v24H0V0z\" fill=\"none\"/>\n",
              "    <path d=\"M18.56 5.44l.94 2.06.94-2.06 2.06-.94-2.06-.94-.94-2.06-.94 2.06-2.06.94zm-11 1L8.5 8.5l.94-2.06 2.06-.94-2.06-.94L8.5 2.5l-.94 2.06-2.06.94zm10 10l.94 2.06.94-2.06 2.06-.94-2.06-.94-.94-2.06-.94 2.06-2.06.94z\"/><path d=\"M17.41 7.96l-1.37-1.37c-.4-.4-.92-.59-1.43-.59-.52 0-1.04.2-1.43.59L10.3 9.45l-7.72 7.72c-.78.78-.78 2.05 0 2.83L4 21.41c.39.39.9.59 1.41.59.51 0 1.02-.2 1.41-.59l7.78-7.78 2.81-2.81c.8-.78.8-2.07 0-2.86zM5.41 20L4 18.59l7.72-7.72 1.47 1.35L5.41 20z\"/>\n",
              "  </svg>\n",
              "      </button>\n",
              "      \n",
              "  <style>\n",
              "    .colab-df-container {\n",
              "      display:flex;\n",
              "      flex-wrap:wrap;\n",
              "      gap: 12px;\n",
              "    }\n",
              "\n",
              "    .colab-df-convert {\n",
              "      background-color: #E8F0FE;\n",
              "      border: none;\n",
              "      border-radius: 50%;\n",
              "      cursor: pointer;\n",
              "      display: none;\n",
              "      fill: #1967D2;\n",
              "      height: 32px;\n",
              "      padding: 0 0 0 0;\n",
              "      width: 32px;\n",
              "    }\n",
              "\n",
              "    .colab-df-convert:hover {\n",
              "      background-color: #E2EBFA;\n",
              "      box-shadow: 0px 1px 2px rgba(60, 64, 67, 0.3), 0px 1px 3px 1px rgba(60, 64, 67, 0.15);\n",
              "      fill: #174EA6;\n",
              "    }\n",
              "\n",
              "    [theme=dark] .colab-df-convert {\n",
              "      background-color: #3B4455;\n",
              "      fill: #D2E3FC;\n",
              "    }\n",
              "\n",
              "    [theme=dark] .colab-df-convert:hover {\n",
              "      background-color: #434B5C;\n",
              "      box-shadow: 0px 1px 3px 1px rgba(0, 0, 0, 0.15);\n",
              "      filter: drop-shadow(0px 1px 2px rgba(0, 0, 0, 0.3));\n",
              "      fill: #FFFFFF;\n",
              "    }\n",
              "  </style>\n",
              "\n",
              "      <script>\n",
              "        const buttonEl =\n",
              "          document.querySelector('#df-2ad41095-8987-478b-a1ba-d5e6b7f61ac9 button.colab-df-convert');\n",
              "        buttonEl.style.display =\n",
              "          google.colab.kernel.accessAllowed ? 'block' : 'none';\n",
              "\n",
              "        async function convertToInteractive(key) {\n",
              "          const element = document.querySelector('#df-2ad41095-8987-478b-a1ba-d5e6b7f61ac9');\n",
              "          const dataTable =\n",
              "            await google.colab.kernel.invokeFunction('convertToInteractive',\n",
              "                                                     [key], {});\n",
              "          if (!dataTable) return;\n",
              "\n",
              "          const docLinkHtml = 'Like what you see? Visit the ' +\n",
              "            '<a target=\"_blank\" href=https://colab.research.google.com/notebooks/data_table.ipynb>data table notebook</a>'\n",
              "            + ' to learn more about interactive tables.';\n",
              "          element.innerHTML = '';\n",
              "          dataTable['output_type'] = 'display_data';\n",
              "          await google.colab.output.renderOutput(dataTable, element);\n",
              "          const docLink = document.createElement('div');\n",
              "          docLink.innerHTML = docLinkHtml;\n",
              "          element.appendChild(docLink);\n",
              "        }\n",
              "      </script>\n",
              "    </div>\n",
              "  </div>\n",
              "  "
            ]
          },
          "metadata": {},
          "execution_count": 10
        }
      ]
    },
    {
      "cell_type": "markdown",
      "source": [
        "# Pegando os dados da tabela do Investpy\n",
        "\n"
      ],
      "metadata": {
        "id": "dTZ1H_eqabNK"
      }
    },
    {
      "cell_type": "code",
      "source": [
        "p = dfi['Prev. Close'][0] #preço da ação\n",
        "p"
      ],
      "metadata": {
        "colab": {
          "base_uri": "https://localhost:8080/"
        },
        "id": "0UQli6ArmLxt",
        "outputId": "d7093db6-066c-4eda-ba43-2564c2561d7e"
      },
      "execution_count": null,
      "outputs": [
        {
          "output_type": "execute_result",
          "data": {
            "text/plain": [
              "31.11"
            ]
          },
          "metadata": {},
          "execution_count": 11
        }
      ]
    },
    {
      "cell_type": "code",
      "source": [
        "l = dfi['EPS'][0] #lucro por ação\n",
        "l"
      ],
      "metadata": {
        "colab": {
          "base_uri": "https://localhost:8080/"
        },
        "id": "_7010qV3L-iN",
        "outputId": "ccaa15b4-faaa-4b2a-a0fe-7129656cc392"
      },
      "execution_count": null,
      "outputs": [
        {
          "output_type": "execute_result",
          "data": {
            "text/plain": [
              "11.5"
            ]
          },
          "metadata": {},
          "execution_count": 12
        }
      ]
    },
    {
      "cell_type": "code",
      "source": [
        "qtdacao = dfi['Shares Outstanding'][0] #quantidade de ação\n",
        "qtdacao"
      ],
      "metadata": {
        "colab": {
          "base_uri": "https://localhost:8080/"
        },
        "id": "FvDvAgqQNF8U",
        "outputId": "81d82708-3f83-4be3-f17e-257cc6565fb9"
      },
      "execution_count": null,
      "outputs": [
        {
          "output_type": "execute_result",
          "data": {
            "text/plain": [
              "13044201261.0"
            ]
          },
          "metadata": {},
          "execution_count": 13
        }
      ]
    },
    {
      "cell_type": "code",
      "source": [
        "dividendos = dfi['Dividend (Yield)'][0] #dividendos pago nos ultimos 12 meses\n",
        "div12 = dividendos.split(\"(\")[0]\n",
        "div12 = float(div12)\n",
        "div12"
      ],
      "metadata": {
        "colab": {
          "base_uri": "https://localhost:8080/"
        },
        "id": "MLuxLufzPY-Z",
        "outputId": "75071939-2579-408d-aa66-3b5acdd855dc"
      },
      "execution_count": null,
      "outputs": [
        {
          "output_type": "execute_result",
          "data": {
            "text/plain": [
              "11.5461"
            ]
          },
          "metadata": {},
          "execution_count": 14
        }
      ]
    },
    {
      "cell_type": "code",
      "source": [
        "lucroliq = dfe['Net Income'][0] # lucro liquido \n",
        "lucroliq = lucroliq*(10**6)\n",
        "lucroliq"
      ],
      "metadata": {
        "colab": {
          "base_uri": "https://localhost:8080/"
        },
        "id": "iQfKnOQ-ixCq",
        "outputId": "fcaafdb0-5e29-4288-934d-c22d3907f16f"
      },
      "execution_count": null,
      "outputs": [
        {
          "output_type": "execute_result",
          "data": {
            "text/plain": [
              "106668000000.0"
            ]
          },
          "metadata": {},
          "execution_count": 15
        }
      ]
    },
    {
      "cell_type": "code",
      "source": [
        "patriliq = dfe['Total Revenue'][0] #patrimonio liquido\n",
        "patriliq = patriliq*(10**6)\n",
        "patriliq"
      ],
      "metadata": {
        "colab": {
          "base_uri": "https://localhost:8080/"
        },
        "id": "vwtZk7i9ixMI",
        "outputId": "83ac37e5-3599-415a-a69e-b787d4525117"
      },
      "execution_count": null,
      "outputs": [
        {
          "output_type": "execute_result",
          "data": {
            "text/plain": [
              "452668000000.0"
            ]
          },
          "metadata": {},
          "execution_count": 16
        }
      ]
    },
    {
      "cell_type": "markdown",
      "source": [
        "# Calculo dos indicadores"
      ],
      "metadata": {
        "id": "Yc45Oun4airc"
      }
    },
    {
      "cell_type": "code",
      "source": [
        "##RESULTADOS REFERENTES A AÇÃO PETR3\n",
        "#Petrobras\n",
        "# VARIAVEIS PARA O CALCULO DOS INDICADORES\n",
        "vpa = patriliq/qtdacao #valor patrimonial\n",
        "\n",
        "def primeiroindicador(pl):\n",
        "    if pl<0:\n",
        "        print(\"O lucro por ação é negativo\")\n",
        "    else:\n",
        "        pass\n",
        "\n",
        "def segundoindicador(pv):\n",
        "    if 0<pv<1:\n",
        "        pvi= (1-pv)*100\n",
        "        print(\"Pelo segundo indicador a ação está mais barata {}%\".format(pvi))\n",
        "    elif pv<0:\n",
        "        print(\"A empresa tomou prejuizo\")\n",
        "    elif pv==1:\n",
        "        print(\"O preço da ação está no preço que o mercado está disposto a pagar\")\n",
        "    else:\n",
        "        pvs= (pv-1)*100\n",
        "        print(\"Pelo segundo indicador a ação está mais cara {}\".format(pvs))\n",
        "\n",
        "def terceiroindicador(roe):\n",
        "    dinheiroroe= (roe/100)*p\n",
        "    print(\"a valorização total em reais foi de {} de acordo com ROE\".format(dinheiroroe))\n",
        "\n",
        "def quartoindicador(div12):\n",
        "    dinheirodiv= (dy/100)*p\n",
        "    print(\"O total pago em dividendo nos ultimos 12 meses é de {}\".format(dinheirodiv))\n",
        "\n",
        "#INDICADORES\n",
        "pl = p/l #primeiro indicador preço por lucro\n",
        "pv = p/vpa #segundo indicador preço por valor patrimonial\n",
        "roe = (lucroliq/patriliq)*100 #retorno sobre o patrimonio\n",
        "dy = (div12/p)*100 #dividend yield\n",
        "\n",
        "print(\"O  primeiro indicador, preço por lucro é {}\".format(pl))\n",
        "print(\"O  segundo indicador, preço por valor patrimonial é {}\".format(pv))\n",
        "print(\"O  terceiro indificador, retorno sobre o patrimonio(ROE) é {}\".format(roe))\n",
        "print(\"O quarto e ultimo indicador, Dividend Yield é {}\".format(dy))\n",
        "primeiroindicador(pl)\n",
        "segundoindicador(pv)\n",
        "terceiroindicador(roe)\n",
        "quartoindicador(div12)"
      ],
      "metadata": {
        "colab": {
          "base_uri": "https://localhost:8080/"
        },
        "id": "JmeCCtV3r1qw",
        "outputId": "08535109-28af-40f9-de3b-26c0614f7f0b"
      },
      "execution_count": null,
      "outputs": [
        {
          "output_type": "stream",
          "name": "stdout",
          "text": [
            "O  primeiro indicador, preço por lucro é 2.705217391304348\n",
            "O  segundo indicador, preço por valor patrimonial é 0.8964740189934124\n",
            "O  terceiro indificador, retorno sobre o patrimonio(ROE) é 23.564289943181315\n",
            "O quarto e ultimo indicador, Dividend Yield é 37.11378977820636\n",
            "Pelo segundo indicador a ação está mais barata 10.35259810065876%\n",
            "a valorização total em reais foi de 7.330850601323707 de acordo com ROE\n",
            "O total pago em dividendo nos ultimos 12 meses é de 11.5461\n"
          ]
        }
      ]
    },
    {
      "cell_type": "code",
      "source": [
        ""
      ],
      "metadata": {
        "id": "TMMYceRaLjeD"
      },
      "execution_count": null,
      "outputs": []
    }
  ]
}